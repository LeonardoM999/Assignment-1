{
  "cells": [
    {
      "cell_type": "markdown",
      "metadata": {
        "id": "view-in-github",
        "colab_type": "text"
      },
      "source": [
        "<a href=\"https://colab.research.google.com/github/LeonardoM999/Assignment-1/blob/main/notebooks/Introduction%20to%20Python/String.ipynb\" target=\"_parent\"><img src=\"https://colab.research.google.com/assets/colab-badge.svg\" alt=\"Open In Colab\"/></a>"
      ]
    },
    {
      "cell_type": "markdown",
      "id": "5d9ec882",
      "metadata": {
        "id": "5d9ec882"
      },
      "source": [
        "# String\n",
        "A **string** is a sequence of one or more characters surrounded by quotes (single ' or double \", but **the quotes at the beginning and end of a string must match**)."
      ]
    },
    {
      "cell_type": "code",
      "execution_count": null,
      "id": "01a60991",
      "metadata": {
        "colab": {
          "base_uri": "https://localhost:8080/"
        },
        "id": "01a60991",
        "outputId": "56a1f1b2-68c1-48e3-9448-74fedfda1ed6"
      },
      "outputs": [
        {
          "name": "stdout",
          "output_type": "stream",
          "text": [
            "My first lesson of Python\n"
          ]
        },
        {
          "data": {
            "text/plain": [
              "str"
            ]
          },
          "execution_count": 1,
          "metadata": {},
          "output_type": "execute_result"
        }
      ],
      "source": [
        "string1 = \"My first lesson of Python\"       # string between double quotes\n",
        "print (string1)                             # Python built-in function to print to the standard output\n",
        "type(string1)                               # Python built-in function to evaluate data type"
      ]
    },
    {
      "cell_type": "code",
      "execution_count": null,
      "id": "35a3223c",
      "metadata": {
        "colab": {
          "base_uri": "https://localhost:8080/"
        },
        "id": "35a3223c",
        "outputId": "17c82ce2-a1f6-42ee-8a10-6562fd2eee05"
      },
      "outputs": [
        {
          "name": "stdout",
          "output_type": "stream",
          "text": [
            "My first lesson of Python\n"
          ]
        },
        {
          "data": {
            "text/plain": [
              "str"
            ]
          },
          "execution_count": 2,
          "metadata": {},
          "output_type": "execute_result"
        }
      ],
      "source": [
        "string2 = 'My first lesson of Python'       # string between single quotes\n",
        "print (string2)\n",
        "type(string2)"
      ]
    },
    {
      "cell_type": "code",
      "execution_count": null,
      "id": "9c7b86e8",
      "metadata": {
        "colab": {
          "base_uri": "https://localhost:8080/",
          "height": 106
        },
        "id": "9c7b86e8",
        "outputId": "bf52198e-6af1-430b-e3df-7a4f9ccc533a"
      },
      "outputs": [
        {
          "ename": "SyntaxError",
          "evalue": "unterminated string literal (detected at line 1) (<ipython-input-3-8f0cd98089a6>, line 1)",
          "output_type": "error",
          "traceback": [
            "\u001b[0;36m  File \u001b[0;32m\"<ipython-input-3-8f0cd98089a6>\"\u001b[0;36m, line \u001b[0;32m1\u001b[0m\n\u001b[0;31m    string3 = 'An incorect way to type a string in Python\" # Remember that the quotes at the beginning and end of a string must match\u001b[0m\n\u001b[0m              ^\u001b[0m\n\u001b[0;31mSyntaxError\u001b[0m\u001b[0;31m:\u001b[0m unterminated string literal (detected at line 1)\n"
          ]
        }
      ],
      "source": [
        "string3 = 'An incorect way to type a string in Python\" # Remember that the quotes at the beginning and end of a string must match\n",
        "print(string3)\n",
        "type(string3)"
      ]
    },
    {
      "cell_type": "code",
      "execution_count": null,
      "id": "98a3ceb8",
      "metadata": {
        "colab": {
          "base_uri": "https://localhost:8080/"
        },
        "id": "98a3ceb8",
        "outputId": "45282298-6500-4635-9373-a3f44069dc65"
      },
      "outputs": [
        {
          "name": "stdout",
          "output_type": "stream",
          "text": [
            "A\n"
          ]
        },
        {
          "data": {
            "text/plain": [
              "str"
            ]
          },
          "execution_count": 4,
          "metadata": {},
          "output_type": "execute_result"
        }
      ],
      "source": [
        "string4 = \"A\"\n",
        "print (string4)\n",
        "type(string4)"
      ]
    },
    {
      "cell_type": "code",
      "execution_count": null,
      "id": "9630f91e",
      "metadata": {
        "colab": {
          "base_uri": "https://localhost:8080/"
        },
        "id": "9630f91e",
        "outputId": "b3be5d8f-9f5e-4e92-e886-cd5a271dc516"
      },
      "outputs": [
        {
          "name": "stdout",
          "output_type": "stream",
          "text": [
            "25\n"
          ]
        }
      ],
      "source": [
        "print(len(string1))                        # String length"
      ]
    },
    {
      "cell_type": "code",
      "execution_count": null,
      "id": "5d4c8f9b",
      "metadata": {
        "colab": {
          "base_uri": "https://localhost:8080/"
        },
        "id": "5d4c8f9b",
        "outputId": "8640c2dd-2781-4fbe-dbed-2c7ac5455064"
      },
      "outputs": [
        {
          "name": "stdout",
          "output_type": "stream",
          "text": [
            "helloworld!\n"
          ]
        }
      ],
      "source": [
        "string5 = \"hello\"\n",
        "string6 = \"world!\"\n",
        "string7 = string5 + string6                # String concatenation\n",
        "print(string7)"
      ]
    },
    {
      "cell_type": "code",
      "execution_count": null,
      "id": "810f2044",
      "metadata": {
        "colab": {
          "base_uri": "https://localhost:8080/"
        },
        "id": "810f2044",
        "outputId": "b588f8f2-ce64-4c69-914e-4724d9e56f65"
      },
      "outputs": [
        {
          "name": "stdout",
          "output_type": "stream",
          "text": [
            "hello world!\n"
          ]
        }
      ],
      "source": [
        "string8 = string5 + ' ' + string6\n",
        "print(string8)"
      ]
    },
    {
      "cell_type": "code",
      "execution_count": null,
      "id": "43722a5b",
      "metadata": {
        "colab": {
          "base_uri": "https://localhost:8080/"
        },
        "id": "43722a5b",
        "outputId": "35f882c4-51e9-4e9d-9135-b94f250fa44f"
      },
      "outputs": [
        {
          "name": "stdout",
          "output_type": "stream",
          "text": [
            "Welcome to the 1 st Python lesson\n"
          ]
        }
      ],
      "source": [
        "string9 = '%s %s %s %d %s %s %s' % (\"Welcome\", \"to\", \"the\", 1, \"st\", \"Python\", \"lesson\")   # Format in sprintf style\n",
        "print(string9)"
      ]
    },
    {
      "cell_type": "markdown",
      "id": "00dc8ee6",
      "metadata": {
        "id": "00dc8ee6"
      },
      "source": [
        "The string class provides numerous methods (for a comprehensive list go to the [offical page](https://docs.python.org/3.5/library/stdtypes.html#string-methods)) including:"
      ]
    },
    {
      "cell_type": "code",
      "execution_count": null,
      "id": "2f14ebb8",
      "metadata": {
        "id": "2f14ebb8"
      },
      "outputs": [],
      "source": [
        "s = 'welcome'\n",
        "print(s.capitalize())          # It makes the first character UPPERCASE and the rest lowercase\n",
        "\n",
        "print(s.upper())               # It makes the whole string UPPERCASE\n",
        "\n",
        "print(s.rjust(20))             # It justifies the string to the right, adding white spaces\n",
        "\n",
        "print(s.center(20))            # It centers the string, adding white spaces;\n",
        "\n",
        "print(s.replace('l', '(ell)')) # Replace the string instances 'l' with '(ell)'\n",
        "\n",
        "print(' world '.strip())       # It deletes white spaces at the string's begininng and end"
      ]
    },
    {
      "cell_type": "markdown",
      "id": "4534ab80",
      "metadata": {
        "id": "4534ab80"
      },
      "source": [
        "String can be accessed by position (**remember that Python counts starting from 0**):"
      ]
    },
    {
      "cell_type": "code",
      "execution_count": null,
      "id": "09af05d3",
      "metadata": {
        "id": "09af05d3"
      },
      "outputs": [],
      "source": [
        "string10 = \"Welcome\"\n",
        "print(string10[0])             # Access the element in the first position"
      ]
    },
    {
      "cell_type": "code",
      "execution_count": null,
      "id": "305ddf41",
      "metadata": {
        "id": "305ddf41"
      },
      "outputs": [],
      "source": [
        "for j in range(0,len(string10)):\n",
        "    print(string10[j])"
      ]
    },
    {
      "cell_type": "markdown",
      "id": "c99af8f6",
      "metadata": {
        "id": "c99af8f6"
      },
      "source": [
        "**Strings are immutable**. We cannot change an element of an already defined string."
      ]
    },
    {
      "cell_type": "code",
      "execution_count": null,
      "id": "9bc38500",
      "metadata": {
        "id": "9bc38500"
      },
      "outputs": [],
      "source": [
        "string10[0] = 'w'"
      ]
    },
    {
      "cell_type": "markdown",
      "id": "cf1a0211",
      "metadata": {
        "id": "cf1a0211"
      },
      "source": [
        "In the following, we will perform some exercises."
      ]
    },
    {
      "cell_type": "code",
      "execution_count": 1,
      "id": "9c6c8dd2",
      "metadata": {
        "id": "9c6c8dd2",
        "outputId": "f1939a02-ece0-4bc1-d0fd-3a24bb0dbabc",
        "colab": {
          "base_uri": "https://localhost:8080/"
        }
      },
      "outputs": [
        {
          "output_type": "execute_result",
          "data": {
            "text/plain": [
              "6"
            ]
          },
          "metadata": {},
          "execution_count": 1
        }
      ],
      "source": [
        "### Exercise 1\n",
        "# Define a string containing your name and compute its length\n",
        "name= \"Farhad\"\n",
        "len(name)"
      ]
    },
    {
      "cell_type": "code",
      "execution_count": 4,
      "id": "3fbecc39",
      "metadata": {
        "id": "3fbecc39",
        "outputId": "9d07a1cb-a3d8-491f-cb54-8e1a49a14ecd",
        "colab": {
          "base_uri": "https://localhost:8080/",
          "height": 35
        }
      },
      "outputs": [
        {
          "output_type": "execute_result",
          "data": {
            "text/plain": [
              "'Weome'"
            ],
            "application/vnd.google.colaboratory.intrinsic+json": {
              "type": "string"
            }
          },
          "metadata": {},
          "execution_count": 4
        }
      ],
      "source": [
        "### Exercise 2\n",
        "# Get a new string made of the first 2 and last 3 characters of the following given string\n",
        "# Output: Weome\n",
        "var = \"Welcome\"\n",
        "var[0:2] + var[-3:]"
      ]
    },
    {
      "cell_type": "code",
      "execution_count": 5,
      "id": "554fcb7d",
      "metadata": {
        "id": "554fcb7d",
        "outputId": "74bfcf05-b1e5-4153-f720-9680d2906e9c",
        "colab": {
          "base_uri": "https://localhost:8080/",
          "height": 35
        }
      },
      "outputs": [
        {
          "output_type": "execute_result",
          "data": {
            "text/plain": [
              "'Hello world!'"
            ],
            "application/vnd.google.colaboratory.intrinsic+json": {
              "type": "string"
            }
          },
          "metadata": {},
          "execution_count": 5
        }
      ],
      "source": [
        "### Exercise 3\n",
        "# Get a new single string from the following two given strings, separated by a space\n",
        "# Output: Hello world!\n",
        "var1 = \"Hello\"\n",
        "var2 = \"world!\"\n",
        "var1+\" \"+var2"
      ]
    },
    {
      "cell_type": "code",
      "execution_count": 6,
      "id": "ceebc5bf",
      "metadata": {
        "id": "ceebc5bf",
        "outputId": "e34f63e9-2376-4383-a1f6-1e37ffbfe0b6",
        "colab": {
          "base_uri": "https://localhost:8080/",
          "height": 35
        }
      },
      "outputs": [
        {
          "output_type": "execute_result",
          "data": {
            "text/plain": [
              "'Hello, world!'"
            ],
            "application/vnd.google.colaboratory.intrinsic+json": {
              "type": "string"
            }
          },
          "metadata": {},
          "execution_count": 6
        }
      ],
      "source": [
        "### Exercise 4\n",
        "# Using var1 and var2 defined in the previous exercise, get a new single string from them, separated by a comma and a space\n",
        "# Output: Hello, world!\n",
        "var1+\", \"+var2"
      ]
    },
    {
      "cell_type": "code",
      "execution_count": 10,
      "id": "e0e918ca",
      "metadata": {
        "id": "e0e918ca",
        "outputId": "9dae2c07-4bda-4f2f-87ba-176165952ddc",
        "colab": {
          "base_uri": "https://localhost:8080/",
          "height": 35
        }
      },
      "outputs": [
        {
          "output_type": "execute_result",
          "data": {
            "text/plain": [
              "'Mathon Pytlab'"
            ],
            "application/vnd.google.colaboratory.intrinsic+json": {
              "type": "string"
            }
          },
          "metadata": {},
          "execution_count": 10
        }
      ],
      "source": [
        "### Exercise 5\n",
        "# Get a new single string from two given strings, separated by a space and swap the first two characters of each string\n",
        "var1 = 'Python'\n",
        "var2 = 'Matlab'\n",
        "# Output: Mathon Pytlab\n",
        "new_var1 = var2[0:3]+var1[3:]\n",
        "new_var2= var1[0:3]+ var2[3:]\n",
        "new_var1 + \" \" +new_var2"
      ]
    },
    {
      "cell_type": "code",
      "execution_count": 11,
      "id": "b0c1ba59",
      "metadata": {
        "id": "b0c1ba59",
        "outputId": "ba4519b0-0195-4cce-bfbf-7f0c4a0a8272",
        "colab": {
          "base_uri": "https://localhost:8080/",
          "height": 35
        }
      },
      "outputs": [
        {
          "output_type": "execute_result",
          "data": {
            "text/plain": [
              "'If I study enough and I can generalise the concepts, my exam performance will be good.'"
            ],
            "application/vnd.google.colaboratory.intrinsic+json": {
              "type": "string"
            }
          },
          "metadata": {},
          "execution_count": 11
        }
      ],
      "source": [
        "### Exercise 6\n",
        "# Replace each occurrence of term \"poor\" with the term \"good\" in the following string:\n",
        "var1 = \"If I study enough and I can generalise the concepts, my exam performance will be poor.\"\n",
        "# Output: If I study enough and I can generalise the concepts, my exam performance will be good.\n",
        "var1.replace(\"poor\",\"good\")"
      ]
    },
    {
      "cell_type": "code",
      "execution_count": 16,
      "id": "1e672183",
      "metadata": {
        "id": "1e672183",
        "outputId": "037eded8-1113-4165-d03c-42b8964066e1",
        "colab": {
          "base_uri": "https://localhost:8080/"
        }
      },
      "outputs": [
        {
          "output_type": "execute_result",
          "data": {
            "text/plain": [
              "('mickey mouse', 'MICKEY MOUSE')"
            ]
          },
          "metadata": {},
          "execution_count": 16
        }
      ],
      "source": [
        "### Exercise 7\n",
        "# Display the following string upper and lower cases\n",
        "var = \"Mickey Mouse\"\n",
        "# Output: MICKEY MOUSE\n",
        "# Output: mickey mouse\n",
        "x =var.lower()\n",
        "y = var.upper()\n",
        "x , y"
      ]
    },
    {
      "cell_type": "code",
      "execution_count": 23,
      "id": "b11de572",
      "metadata": {
        "id": "b11de572",
        "outputId": "9ef7e377-a15c-4837-c13b-4dccb03a4ef8",
        "colab": {
          "base_uri": "https://localhost:8080/"
        }
      },
      "outputs": [
        {
          "output_type": "stream",
          "name": "stdout",
          "text": [
            "WelcometotheModule2ofBiomedicalSignalProcessingandMachineLearningcourse\n"
          ]
        }
      ],
      "source": [
        "### Exercise 8\n",
        "# Remove all the white spaces from the following string:\n",
        "string1 = \"Welcome to the Module 2 of Biomedical Signal Processing and Machine Learning course\"\n",
        "# Output: WelcometotheModule2ofBiomedicalSignalProcessingandMachineLearningcourse\n",
        "str2 = string1.replace(\" \",\"\")\n",
        "print(str2)"
      ]
    },
    {
      "cell_type": "code",
      "execution_count": 25,
      "id": "8599162a",
      "metadata": {
        "id": "8599162a",
        "outputId": "753c7e47-a668-4d81-f801-2295fb4343c8",
        "colab": {
          "base_uri": "https://localhost:8080/",
          "height": 35
        }
      },
      "outputs": [
        {
          "output_type": "execute_result",
          "data": {
            "text/plain": [
              "'Welcomemememe'"
            ],
            "application/vnd.google.colaboratory.intrinsic+json": {
              "type": "string"
            }
          },
          "metadata": {},
          "execution_count": 25
        }
      ],
      "source": [
        "### Exercise 9\n",
        "#  Get a new string made of four copies of the last two characters of the following string\n",
        "var = 'Welcome'\n",
        "# Output: Welcomemememe\n",
        "var[0:5]+4*var[-2:]"
      ]
    },
    {
      "cell_type": "code",
      "execution_count": 29,
      "id": "f021baa1",
      "metadata": {
        "id": "f021baa1",
        "outputId": "42b49df4-00e0-4668-927a-efc55c86468c",
        "colab": {
          "base_uri": "https://localhost:8080/"
        }
      },
      "outputs": [
        {
          "output_type": "execute_result",
          "data": {
            "text/plain": [
              "['a', 'b', 'e', 'f', 'g', 'g', 'h', 'k', 'm', 'o']"
            ]
          },
          "metadata": {},
          "execution_count": 29
        }
      ],
      "source": [
        "### Exercise 10\n",
        "# Sort the following string in alphabetic order\n",
        "string = \"bghoakfgem\"\n",
        "# Output: ['a', 'b', 'e', 'f', 'g', 'g', 'h', 'k', 'm', 'o']\n",
        "sorted(string)"
      ]
    }
  ],
  "metadata": {
    "colab": {
      "provenance": [],
      "include_colab_link": true
    },
    "kernelspec": {
      "display_name": "Python 3 (ipykernel)",
      "language": "python",
      "name": "python3"
    },
    "language_info": {
      "codemirror_mode": {
        "name": "ipython",
        "version": 3
      },
      "file_extension": ".py",
      "mimetype": "text/x-python",
      "name": "python",
      "nbconvert_exporter": "python",
      "pygments_lexer": "ipython3",
      "version": "3.10.0"
    }
  },
  "nbformat": 4,
  "nbformat_minor": 5
}