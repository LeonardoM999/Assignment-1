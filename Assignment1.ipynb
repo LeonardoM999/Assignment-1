{
  "cells": [
    {
      "cell_type": "markdown",
      "metadata": {
        "id": "-WeCeITXoxLf"
      },
      "source": [
        "# Assignment 1\n",
        "\n",
        "**Credits**: Federico Ruggeri, Eleonora Mancini, Paolo Torroni\n",
        "\n",
        "**Keywords**: POS tagging, Sequence labelling, RNNs"
      ]
    },
    {
      "cell_type": "code",
      "execution_count": 145,
      "metadata": {
        "id": "dKzlqJPq0I9E"
      },
      "outputs": [],
      "source": [
        "import pandas as pd\n",
        "import numpy as np\n",
        "from pathlib import Path\n",
        "import shutil\n",
        "import urllib\n",
        "import zipfile\n",
        "import os\n",
        "import random\n",
        "import tensorflow as tf\n",
        "from tensorflow.keras.preprocessing.text import Tokenizer\n",
        "from tensorflow.keras.preprocessing import sequence\n",
        "from sklearn.metrics import (\n",
        "    f1_score,\n",
        "    classification_report,\n",
        "    confusion_matrix,\n",
        ")\n",
        "from sklearn.utils import compute_class_weight\n",
        "from tensorflow.keras.models import Model\n",
        "from tensorflow.keras.layers import Bidirectional, LSTM, Dense, TimeDistributed\n",
        "from tensorflow.keras.losses import CategoricalCrossentropy\n",
        "from tensorflow.keras.optimizers import Adam\n",
        "from keras.utils import to_categorical\n",
        "from keras.layers import Embedding, Input\n",
        "from tensorflow.keras.callbacks import EarlyStopping, ReduceLROnPlateau\n",
        "from tensorflow.keras.utils import plot_model\n",
        "import matplotlib.pyplot as plt\n",
        "import seaborn as sns"
      ]
    },
    {
      "cell_type": "code",
      "execution_count": 11,
      "metadata": {
        "id": "CFPsa10V0I9F"
      },
      "outputs": [],
      "source": [
        "def set_reproducibility(seed):\n",
        "    random.seed(seed)\n",
        "    np.random.seed(seed)\n",
        "    tf.random.set_seed(seed)\n",
        "    os.environ[\"PYTHONHASHSEED\"] = str(seed)\n",
        "    # os.environ[\"TF_DETERMINISTIC_OPS\"] = \"1\" ### can make training slower\n",
        "\n",
        "\n",
        "set_reproducibility(seed=42)"
      ]
    },
    {
      "cell_type": "markdown",
      "metadata": {
        "id": "L_5JrteW0I9G"
      },
      "source": [
        "# [Task 1 - 0.5 points] Corpus"
      ]
    },
    {
      "cell_type": "markdown",
      "metadata": {
        "id": "NZKcsCMU0I9G"
      },
      "source": [
        "### Download the corpus"
      ]
    },
    {
      "cell_type": "code",
      "execution_count": 12,
      "metadata": {
        "id": "Ngly-2b_0I9I"
      },
      "outputs": [],
      "source": [
        "def download_url(download_path: Path, url: str):\n",
        "    urllib.request.urlretrieve(url, filename=download_path)"
      ]
    },
    {
      "cell_type": "code",
      "execution_count": 13,
      "metadata": {
        "colab": {
          "base_uri": "https://localhost:8080/"
        },
        "id": "3Sbiv7Zr0I9I",
        "outputId": "83fd6554-89f2-4366-cc6c-412d9bc6f121"
      },
      "outputs": [
        {
          "name": "stdout",
          "output_type": "stream",
          "text": [
            "Dataset already downloaded!\n",
            "Dataset already extracted!\n"
          ]
        }
      ],
      "source": [
        "dataset_url = \"https://raw.githubusercontent.com/nltk/nltk_data/gh-pages/packages/corpora/dependency_treebank.zip\"\n",
        "dataset_name = \"dependency_treebank\"\n",
        "\n",
        "dataset_folder = Path.cwd().joinpath(\"Datasets\")\n",
        "if not dataset_folder.exists():\n",
        "    dataset_folder.mkdir(parents=True)\n",
        "\n",
        "dataset_zip_path = dataset_folder.joinpath(\"dependency_treebank.zip\")\n",
        "if not dataset_zip_path.exists():\n",
        "    print(\"Downloading dataset... \", end=\"\")\n",
        "    download_url(url=dataset_url, download_path=dataset_zip_path)\n",
        "    print(\"Download complete!\")\n",
        "else:\n",
        "    print(\"Dataset already downloaded!\")\n",
        "dataset_path = dataset_folder.joinpath(dataset_name)\n",
        "\n",
        "if not dataset_path.exists():\n",
        "    print(\"Extracting dataset... (it may take a while...) \", end=\"\")\n",
        "    shutil.unpack_archive(dataset_zip_path, dataset_folder)\n",
        "    print(\"Extraction completed!\")\n",
        "else:\n",
        "    print(\"Dataset already extracted!\")"
      ]
    },
    {
      "cell_type": "markdown",
      "metadata": {
        "id": "05sbc2yW0I9I"
      },
      "source": [
        "#### Encode the corpus into a pandas DataFrame object"
      ]
    },
    {
      "cell_type": "code",
      "execution_count": 14,
      "metadata": {
        "id": "hG4eepnY0I9J"
      },
      "outputs": [],
      "source": [
        "folder = dataset_folder.joinpath(dataset_name)\n",
        "\n",
        "\n",
        "dataframe_rows = []\n",
        "for file_path in sorted(folder.glob(\"*.dp\")):\n",
        "    with file_path.open(mode=\"r\", encoding=\"utf-8\") as text_file:\n",
        "        text = text_file.read()\n",
        "        ### Split sentences (\\n\\n is used for most NLP datasets to split sentences)\n",
        "        sentences = text.split(\"\\n\\n\")\n",
        "\n",
        "        ### Observing each sentence\n",
        "        for s in sentences:\n",
        "            sentence = []\n",
        "            tags = []\n",
        "            ### Taking every line\n",
        "            for line in s.split(\"\\n\"):\n",
        "                columns = line.split(\"\\t\")\n",
        "                ### If every line have word, tag, value\n",
        "                if len(columns) > 2:\n",
        "                    ### Put words and tags into lists\n",
        "                    sentence.append(columns[0])\n",
        "                    tags.append(columns[1])\n",
        "\n",
        "            file_id = int(file_path.stem.split(\"_\")[1])\n",
        "            dataframe_row = {\"file_id\": file_id, \"sentence\": sentence, \"tag\": tags}\n",
        "            dataframe_rows.append(dataframe_row)\n",
        "\n",
        "df = pd.DataFrame(dataframe_rows)\n",
        "\n",
        "FILE_ID, SENTENCE, TAGS = df.columns.values"
      ]
    },
    {
      "cell_type": "code",
      "execution_count": 15,
      "metadata": {
        "colab": {
          "base_uri": "https://localhost:8080/",
          "height": 206
        },
        "id": "X0EppNXK0I9K",
        "outputId": "23e2080b-65e0-4ee3-e89e-7b3983ea49f1"
      },
      "outputs": [
        {
          "data": {
            "text/html": [
              "<div>\n",
              "<style scoped>\n",
              "    .dataframe tbody tr th:only-of-type {\n",
              "        vertical-align: middle;\n",
              "    }\n",
              "\n",
              "    .dataframe tbody tr th {\n",
              "        vertical-align: top;\n",
              "    }\n",
              "\n",
              "    .dataframe thead th {\n",
              "        text-align: right;\n",
              "    }\n",
              "</style>\n",
              "<table border=\"1\" class=\"dataframe\">\n",
              "  <thead>\n",
              "    <tr style=\"text-align: right;\">\n",
              "      <th></th>\n",
              "      <th>file_id</th>\n",
              "      <th>sentence</th>\n",
              "      <th>tag</th>\n",
              "    </tr>\n",
              "  </thead>\n",
              "  <tbody>\n",
              "    <tr>\n",
              "      <th>0</th>\n",
              "      <td>1</td>\n",
              "      <td>[Pierre, Vinken, ,, 61, years, old, ,, will, j...</td>\n",
              "      <td>[NNP, NNP, ,, CD, NNS, JJ, ,, MD, VB, DT, NN, ...</td>\n",
              "    </tr>\n",
              "    <tr>\n",
              "      <th>1</th>\n",
              "      <td>1</td>\n",
              "      <td>[Mr., Vinken, is, chairman, of, Elsevier, N.V....</td>\n",
              "      <td>[NNP, NNP, VBZ, NN, IN, NNP, NNP, ,, DT, NNP, ...</td>\n",
              "    </tr>\n",
              "    <tr>\n",
              "      <th>2</th>\n",
              "      <td>2</td>\n",
              "      <td>[Rudolph, Agnew, ,, 55, years, old, and, forme...</td>\n",
              "      <td>[NNP, NNP, ,, CD, NNS, JJ, CC, JJ, NN, IN, NNP...</td>\n",
              "    </tr>\n",
              "    <tr>\n",
              "      <th>3</th>\n",
              "      <td>3</td>\n",
              "      <td>[A, form, of, asbestos, once, used, to, make, ...</td>\n",
              "      <td>[DT, NN, IN, NN, RB, VBN, TO, VB, NNP, NN, NNS...</td>\n",
              "    </tr>\n",
              "    <tr>\n",
              "      <th>4</th>\n",
              "      <td>3</td>\n",
              "      <td>[The, asbestos, fiber, ,, crocidolite, ,, is, ...</td>\n",
              "      <td>[DT, NN, NN, ,, NN, ,, VBZ, RB, JJ, IN, PRP, V...</td>\n",
              "    </tr>\n",
              "  </tbody>\n",
              "</table>\n",
              "</div>"
            ],
            "text/plain": [
              "   file_id                                           sentence  \\\n",
              "0        1  [Pierre, Vinken, ,, 61, years, old, ,, will, j...   \n",
              "1        1  [Mr., Vinken, is, chairman, of, Elsevier, N.V....   \n",
              "2        2  [Rudolph, Agnew, ,, 55, years, old, and, forme...   \n",
              "3        3  [A, form, of, asbestos, once, used, to, make, ...   \n",
              "4        3  [The, asbestos, fiber, ,, crocidolite, ,, is, ...   \n",
              "\n",
              "                                                 tag  \n",
              "0  [NNP, NNP, ,, CD, NNS, JJ, ,, MD, VB, DT, NN, ...  \n",
              "1  [NNP, NNP, VBZ, NN, IN, NNP, NNP, ,, DT, NNP, ...  \n",
              "2  [NNP, NNP, ,, CD, NNS, JJ, CC, JJ, NN, IN, NNP...  \n",
              "3  [DT, NN, IN, NN, RB, VBN, TO, VB, NNP, NN, NNS...  \n",
              "4  [DT, NN, NN, ,, NN, ,, VBZ, RB, JJ, IN, PRP, V...  "
            ]
          },
          "execution_count": 15,
          "metadata": {},
          "output_type": "execute_result"
        }
      ],
      "source": [
        "df.head()"
      ]
    },
    {
      "cell_type": "markdown",
      "metadata": {
        "id": "L2cFd_wR0I9K"
      },
      "source": [
        "#### Splitting Data Train-Test-Validation"
      ]
    },
    {
      "cell_type": "code",
      "execution_count": 16,
      "metadata": {
        "id": "J0spDKZN0I9L"
      },
      "outputs": [],
      "source": [
        "### File indices for train/validation/test\n",
        "train_ids = np.arange(1, 101)\n",
        "val_ids = np.arange(101, 151)\n",
        "test_ids = np.arange(151, 200)\n",
        "\n",
        "df_train = df[df[FILE_ID].isin(train_ids)]\n",
        "df_val = df[df[FILE_ID].isin(val_ids)]\n",
        "df_test = df[df[FILE_ID].isin(test_ids)]"
      ]
    },
    {
      "cell_type": "markdown",
      "metadata": {
        "id": "J38RHhnT0I9L"
      },
      "source": [
        "# [Task 2 - 0.5 points] Text encoding\n",
        "\n",
        "To train a neural POS tagger, you first need to encode text into numerical format."
      ]
    },
    {
      "cell_type": "markdown",
      "metadata": {
        "id": "zm45krA-0I9L"
      },
      "source": [
        "### Instructions\n",
        "\n",
        "* Embed words using **GloVe embeddings**.\n",
        "* You are **free** to pick any embedding dimension.\n",
        "* [Optional] You are free to experiment with text pre-processing: **make sure you do not delete any token!**"
      ]
    },
    {
      "cell_type": "code",
      "execution_count": 17,
      "metadata": {
        "id": "-0uWNkvL0I9L"
      },
      "outputs": [],
      "source": [
        "### Download Glove\n",
        "\n",
        "embedding_dim = 100\n",
        "glove_file = f\"glove.6B.{embedding_dim}d.txt\"\n",
        "glove_zip = \"glove.6B.zip\"\n",
        "glove_path = Path.cwd().joinpath(glove_file)\n",
        "if not glove_path.exists():\n",
        "    urllib.request.urlretrieve(\n",
        "        \"http://nlp.stanford.edu/data/glove.6B.zip\", Path.cwd().joinpath(glove_zip)\n",
        "    )\n",
        "    with zipfile.ZipFile(glove_zip, \"r\") as zip_ref:\n",
        "        zip_ref.extractall()"
      ]
    },
    {
      "cell_type": "code",
      "execution_count": 18,
      "metadata": {
        "colab": {
          "base_uri": "https://localhost:8080/"
        },
        "id": "GbJxUUSy0I9L",
        "outputId": "f2c31f59-f66e-422d-e027-cf2a1154e42a"
      },
      "outputs": [
        {
          "name": "stdout",
          "output_type": "stream",
          "text": [
            "Found 400000 word vectors.\n"
          ]
        }
      ],
      "source": [
        "embeddings_index = {}\n",
        "with open(glove_file) as f:\n",
        "    for line in f:\n",
        "        word, coefs = line.split(maxsplit=1)\n",
        "        coefs = np.fromstring(coefs, \"f\", sep=\" \")\n",
        "        embeddings_index[word] = coefs\n",
        "\n",
        "print(\"Found %s word vectors.\" % len(embeddings_index))"
      ]
    },
    {
      "cell_type": "code",
      "execution_count": 19,
      "metadata": {
        "id": "LL-AIxiA0I9L"
      },
      "outputs": [],
      "source": [
        "# max_sequence_length = int(np.quantile([len(seq) for seq in df_train[SENTENCE]], 0.99))\n",
        "max_sequence_length = max([len(seq) for seq in df_train[SENTENCE]])"
      ]
    },
    {
      "cell_type": "code",
      "execution_count": 20,
      "metadata": {
        "id": "z7RKxZ0G0I9M"
      },
      "outputs": [],
      "source": [
        "### Preprocessing: lowercase\n",
        "def make_lower(df):\n",
        "    df[SENTENCE].apply(lambda l: [i.lower() for i in l])\n",
        "\n",
        "\n",
        "make_lower(df_train)\n",
        "make_lower(df_val)\n",
        "# TODO va bene fare lowercase sul test set? vediamo se va senza\n",
        "# make_lower(df_test)"
      ]
    },
    {
      "cell_type": "code",
      "execution_count": 21,
      "metadata": {
        "id": "g9-1Yp4p0I9M"
      },
      "outputs": [],
      "source": [
        "### Use Keras Tokenizer to create Vocabulary\n",
        "\n",
        "# TODO ci hanno consigliato codice deprecato (tokenizer) io vorrei usare TextVectorization ma fa schifo\n",
        "\n",
        "tokenizer = Tokenizer(oov_token=\"OOV\")\n",
        "tokenizer.fit_on_texts(df_train[SENTENCE])\n",
        "\n",
        "tag_tokenizer = Tokenizer()\n",
        "tag_tokenizer.fit_on_texts(df_train[TAGS])\n",
        "\n",
        "\n",
        "### Turn text into into padded sequences.\n",
        "def prep_text(texts, tokenizer, max_sequence_length):\n",
        "    text_sequences = tokenizer.texts_to_sequences(texts)\n",
        "    return sequence.pad_sequences(\n",
        "        text_sequences, maxlen=max_sequence_length, padding=\"post\"\n",
        "    )\n",
        "\n",
        "\n",
        "text_train = prep_text(df_train[SENTENCE], tokenizer, max_sequence_length)\n",
        "text_test = prep_text(df_test[SENTENCE], tokenizer, max_sequence_length)\n",
        "text_val = prep_text(df_val[SENTENCE], tokenizer, max_sequence_length)\n",
        "\n",
        "tag_train = prep_text(df_train[TAGS], tag_tokenizer, max_sequence_length)\n",
        "tag_test = prep_text(df_test[TAGS], tag_tokenizer, max_sequence_length)\n",
        "tag_val = prep_text(df_val[TAGS], tag_tokenizer, max_sequence_length)"
      ]
    },
    {
      "cell_type": "code",
      "execution_count": 22,
      "metadata": {
        "colab": {
          "base_uri": "https://localhost:8080/"
        },
        "id": "mNUsZd2M0I9N",
        "outputId": "86eed406-9ce1-462a-f2f3-fe449ab78382"
      },
      "outputs": [
        {
          "data": {
            "text/plain": [
              "array([ 2,  2,  7, 11,  5,  6,  7, 20, 12,  4,  1,  3,  4,  6,  1,  2, 11,\n",
              "        8,  0,  0,  0,  0,  0,  0,  0,  0,  0,  0,  0,  0,  0,  0,  0,  0,\n",
              "        0,  0,  0,  0,  0,  0,  0,  0,  0,  0,  0,  0,  0,  0,  0,  0,  0,\n",
              "        0,  0,  0,  0,  0,  0,  0,  0,  0,  0,  0,  0,  0,  0,  0,  0,  0,\n",
              "        0,  0,  0,  0,  0,  0,  0,  0,  0,  0,  0,  0,  0,  0,  0,  0,  0,\n",
              "        0,  0,  0,  0,  0,  0,  0,  0,  0,  0,  0,  0,  0,  0,  0,  0,  0,\n",
              "        0,  0,  0,  0,  0,  0,  0,  0,  0,  0,  0,  0,  0,  0,  0,  0,  0,\n",
              "        0,  0,  0,  0,  0,  0,  0,  0,  0,  0,  0,  0,  0,  0,  0,  0,  0,\n",
              "        0,  0,  0,  0,  0,  0,  0,  0,  0,  0,  0,  0,  0,  0,  0,  0,  0,\n",
              "        0,  0,  0,  0,  0,  0,  0,  0,  0,  0,  0,  0,  0,  0,  0,  0,  0,\n",
              "        0,  0,  0,  0,  0,  0,  0,  0,  0,  0,  0,  0,  0,  0,  0,  0,  0,\n",
              "        0,  0,  0,  0,  0,  0,  0,  0,  0,  0,  0,  0,  0,  0,  0,  0,  0,\n",
              "        0,  0,  0,  0,  0,  0,  0,  0,  0,  0,  0,  0,  0,  0,  0,  0,  0,\n",
              "        0,  0,  0,  0,  0,  0,  0,  0,  0,  0,  0,  0,  0,  0,  0,  0,  0,\n",
              "        0,  0,  0,  0,  0,  0,  0,  0,  0,  0,  0], dtype=int32)"
            ]
          },
          "execution_count": 22,
          "metadata": {},
          "output_type": "execute_result"
        }
      ],
      "source": [
        "tag_train.shape\n",
        "tag_train[0]"
      ]
    },
    {
      "cell_type": "code",
      "execution_count": 23,
      "metadata": {
        "id": "5jivo8rj0I9N"
      },
      "outputs": [],
      "source": [
        "### Encode the tags in 1hot encoding\n",
        "\n",
        "num_classes = len(tag_tokenizer.word_index) + 1\n",
        "tag_categorical_train = to_categorical(tag_train, num_classes)\n",
        "tag_categorical_test = to_categorical(tag_test, num_classes)\n",
        "tag_categorical_val = to_categorical(tag_val, num_classes)"
      ]
    },
    {
      "cell_type": "code",
      "execution_count": 24,
      "metadata": {
        "colab": {
          "base_uri": "https://localhost:8080/"
        },
        "id": "x8emt0iR0I9N",
        "outputId": "51f45f5e-7ad8-4564-81e7-63918a67b992"
      },
      "outputs": [
        {
          "name": "stdout",
          "output_type": "stream",
          "text": [
            "Tags: ['nn', 'nnp', 'in', 'dt', 'nns', 'jj', ',', '.', 'vbd', 'rb', 'cd', 'vb', 'cc', 'vbz', 'vbn', 'to', 'prp', 'vbg', 'vbp', 'md', 'prp$', '``', 'pos', \"''\", '$', ':', 'wdt', 'jjr', 'wp', 'rp', 'nnps', 'jjs', 'wrb', 'rbr', '-rrb-', '-lrb-', 'ex', 'rbs', 'ls', 'pdt', 'wp$', 'fw', 'uh', 'sym', '#']\n",
            "All tag-tokens: [1, 2, 3, 4, 5, 6, 7, 8, 9, 10, 11, 12, 13, 14, 15, 16, 17, 18, 19, 20, 21, 22, 23, 24, 25, 26, 27, 28, 29, 30, 31, 32, 33, 34, 35, 36, 37, 38, 39, 40, 41, 42, 43, 44, 45]\n",
            "\n",
            "Punctuations: [',', '.', ':', '``', \"''\", '$', '#', 'sym', '-rrb-', '-lrb-']\n",
            "Tokenized punctuations [7, 8, 26, 22, 24, 25, 45, 44, 35, 36]\n",
            "\n",
            "Tags without punctuation: ['nn', 'nnp', 'in', 'dt', 'nns', 'jj', 'vbd', 'rb', 'cd', 'vb', 'cc', 'vbz', 'vbn', 'to', 'prp', 'vbg', 'vbp', 'md', 'prp$', 'pos', 'wdt', 'jjr', 'wp', 'rp', 'nnps', 'jjs', 'wrb', 'rbr', 'ex', 'rbs', 'ls', 'pdt', 'wp$', 'fw', 'uh']\n",
            "Tokens will be used in evaluations: [1, 2, 3, 4, 5, 6, 9, 10, 11, 12, 13, 14, 15, 16, 17, 18, 19, 20, 21, 23, 27, 28, 29, 30, 31, 32, 33, 34, 37, 38, 39, 40, 41, 42, 43]\n"
          ]
        }
      ],
      "source": [
        "all_classes = list(tag_tokenizer.word_index.keys())\n",
        "all_tokens = list(tag_tokenizer.word_index.values())\n",
        "punct_classes = [\",\", \".\", \":\", \"``\", \"''\", \"$\", \"#\", \"sym\", \"-rrb-\", \"-lrb-\"]\n",
        "punct_tokens = [tag_tokenizer.word_index[p] for p in punct_classes]\n",
        "allowed_classes = [\n",
        "    word for word in tag_tokenizer.index_word.values() if word not in punct_classes\n",
        "]\n",
        "allowed_tokens = [token for token in all_tokens if token not in punct_tokens]\n",
        "\n",
        "print(f\"Tags: {all_classes}\")\n",
        "print(f\"All tag-tokens: {all_tokens}\\n\")\n",
        "print(f\"Punctuations: {punct_classes}\")\n",
        "print(f\"Tokenized punctuations {punct_tokens}\\n\")\n",
        "print(f\"Tags without punctuation: {allowed_classes}\")\n",
        "print(f\"Tokens will be used in evaluations: {allowed_tokens}\")"
      ]
    },
    {
      "cell_type": "code",
      "execution_count": 25,
      "metadata": {
        "colab": {
          "base_uri": "https://localhost:8080/"
        },
        "id": "1xDsxfWt0I9N",
        "outputId": "358696c3-dbfe-4917-ff73-06ca763eb2a3"
      },
      "outputs": [
        {
          "name": "stdout",
          "output_type": "stream",
          "text": [
            "Found 400000 word vectors.\n"
          ]
        }
      ],
      "source": [
        "### Create the embedding matrix\n",
        "embeddings_index = {}\n",
        "with open(glove_file) as f:\n",
        "    for line in f:\n",
        "        word, coefs = line.split(maxsplit=1)\n",
        "        coefs = np.fromstring(coefs, \"f\", sep=\" \")\n",
        "        embeddings_index[word] = coefs\n",
        "\n",
        "print(f\"Found {len(embeddings_index)} word vectors.\")\n",
        "\n",
        "embedding_matrix = np.zeros((len(tokenizer.word_index) + 1, embedding_dim))\n",
        "num_words_in_embedding = 0\n",
        "for word, i in tokenizer.word_index.items():\n",
        "    embedding_vector = embeddings_index.get(word)\n",
        "    if embedding_vector is not None:\n",
        "        num_words_in_embedding += 1\n",
        "        embedding_matrix[i] = embedding_vector"
      ]
    },
    {
      "cell_type": "code",
      "execution_count": 26,
      "metadata": {
        "colab": {
          "base_uri": "https://localhost:8080/"
        },
        "id": "PTUDtH800I9O",
        "outputId": "4c353da2-520b-4827-d4ba-1ed096570c2a"
      },
      "outputs": [
        {
          "name": "stdout",
          "output_type": "stream",
          "text": [
            "Token: the \n",
            "Vector: [-0.10767     0.11053     0.59811997 -0.54360998  0.67395997  0.10663\n",
            "  0.038867    0.35481     0.06351    -0.094189    0.15786    -0.81664997\n",
            "  0.14172     0.21939     0.58504999 -0.52157998  0.22782999 -0.16642\n",
            " -0.68228     0.35870001  0.42568001  0.19021     0.91962999  0.57555002\n",
            "  0.46184999  0.42363    -0.095399   -0.42749    -0.16566999 -0.056842\n",
            " -0.29595     0.26036999 -0.26605999 -0.070404   -0.27662     0.15820999\n",
            "  0.69825     0.43081     0.27952    -0.45436999 -0.33801001 -0.58183998\n",
            "  0.22363999 -0.57779998 -0.26862001 -0.20424999  0.56393999 -0.58524001\n",
            " -0.14365    -0.64218003  0.0054697  -0.35247999  0.16162001  1.1796\n",
            " -0.47674    -2.75530005 -0.1321     -0.047729    1.06550002  1.10339999\n",
            " -0.2208      0.18669     0.13177     0.15117     0.71310002 -0.35214999\n",
            "  0.91347998  0.61782998  0.70991999  0.23954999 -0.14571001 -0.37858999\n",
            " -0.045959   -0.47367999  0.2385      0.20536    -0.18996     0.32506999\n",
            " -1.11119998 -0.36341     0.98679    -0.084776   -0.54008001  0.11726\n",
            " -1.0194     -0.24424     0.12771     0.013884    0.080374   -0.35414001\n",
            "  0.34951001 -0.72259998  0.37549001  0.44409999 -0.99058998  0.61214\n",
            " -0.35111001 -0.83155     0.45293     0.082577  ]\n"
          ]
        }
      ],
      "source": [
        "### Inspect tokens' embedding vectors\n",
        "idx_token = 2\n",
        "print(\n",
        "    f\"Token: {list(tokenizer.word_index.keys())[idx_token]} \\nVector: {embedding_matrix[idx_token]}\"\n",
        ")"
      ]
    },
    {
      "cell_type": "code",
      "execution_count": 27,
      "metadata": {
        "id": "7wElwxfb0I9O"
      },
      "outputs": [],
      "source": [
        "# TODO fare un po' di inspection."
      ]
    },
    {
      "cell_type": "markdown",
      "metadata": {
        "id": "B7wJf8ew0I9P"
      },
      "source": [
        "# [Task 3 - 1.0 points] Model definition\n",
        "\n",
        "You are now tasked to define your neural POS tagger."
      ]
    },
    {
      "cell_type": "markdown",
      "metadata": {
        "id": "5xVpNdEZ0I9P"
      },
      "source": [
        "### Instructions\n",
        "\n",
        "* **Baseline**: implement a Bidirectional LSTM with a Dense layer on top.\n",
        "* You are **free** to experiment with hyper-parameters to define the baseline model.\n",
        "\n",
        "* **Model 1**: add an additional LSTM layer to the Baseline model.\n",
        "* **Model 2**: add an additional Dense layer to the Baseline model.\n",
        "\n",
        "* **Do not mix Model 1 and Model 2**. Each model has its own instructions.\n",
        "\n",
        "**Note**: if a document contains many tokens, you are **free** to split them into chunks or sentences to define your mini-batches."
      ]
    },
    {
      "cell_type": "code",
      "execution_count": 28,
      "metadata": {
        "id": "jfs_L1hE0I9P"
      },
      "outputs": [],
      "source": [
        "def get_model(lstm_units=64, add_lstm=False, add_dense=False):\n",
        "    number_of_words = len(tokenizer.word_index.keys())\n",
        "    number_of_tags = len(tag_tokenizer.word_index.keys())\n",
        "\n",
        "    input = Input(shape=(max_sequence_length,))\n",
        "\n",
        "    embedding_layer = Embedding(\n",
        "        input_dim=number_of_words + 1,\n",
        "        output_dim=embedding_dim,\n",
        "        input_length=max_sequence_length,\n",
        "        weights=[embedding_matrix],\n",
        "        trainable=False,\n",
        "    )(input)\n",
        "    bi_lstm = Bidirectional(LSTM(lstm_units, return_sequences=True))(embedding_layer)\n",
        "    bi_lstm2 = (\n",
        "        Bidirectional(LSTM(lstm_units, return_sequences=True))(bi_lstm)\n",
        "        if add_lstm\n",
        "        else bi_lstm\n",
        "    )\n",
        "    dense2 = (\n",
        "        TimeDistributed(Dense(number_of_tags + 1, activation=\"relu\"))(bi_lstm2)\n",
        "        if add_dense\n",
        "        else bi_lstm\n",
        "    )\n",
        "    dense_output = TimeDistributed(Dense(number_of_tags + 1, activation=\"softmax\"))(\n",
        "        dense2\n",
        "    )\n",
        "    model = Model(input, dense_output)\n",
        "\n",
        "    ### No logits: we have 1 hot encoding as labels\n",
        "    model.compile(\n",
        "        loss=CategoricalCrossentropy(from_logits=False),\n",
        "        optimizer=Adam(5e-3),\n",
        "        metrics=[\"accuracy\"],  # TODO add recall? precision?\n",
        "    )\n",
        "    # model.summary()\n",
        "    return model"
      ]
    },
    {
      "cell_type": "code",
      "execution_count": 29,
      "metadata": {
        "id": "VufgwYQ10I9P"
      },
      "outputs": [],
      "source": [
        "early_stopping = EarlyStopping(\n",
        "    monitor=\"val_accuracy\",\n",
        "    mode=\"max\",\n",
        "    patience=20,\n",
        "    restore_best_weights=True,\n",
        "    min_delta=0.001,\n",
        ")\n",
        "reduce_lr = ReduceLROnPlateau(\n",
        "    monitor=\"val_accuracy\",\n",
        "    mode=\"max\",\n",
        "    factor=0.1,\n",
        "    patience=7,\n",
        "    cooldown=1,\n",
        "    min_lr=1e-5,\n",
        "    min_delta=0.001,\n",
        ")"
      ]
    },
    {
      "cell_type": "code",
      "execution_count": 175,
      "metadata": {},
      "outputs": [],
      "source": [
        "### Class weights\n",
        "tags_train_flatten = np.array(\n",
        "    df_train[TAGS]\n",
        "    .apply(lambda l: l + [\"zzzzzz\" for _ in range(len(tag_train[0]) - len(l))])\n",
        "    .to_list()\n",
        ").flatten()\n",
        "\n",
        "tags_train_flatten = tags_train_flatten[tags_train_flatten != \"zzzzzz\"]\n",
        "unique_tags = np.unique(tags_train_flatten)\n",
        "weights = compute_class_weight(\n",
        "    class_weight=\"balanced\",\n",
        "    classes=unique_tags,\n",
        "    y=tags_train_flatten,\n",
        ")\n",
        "class_weights = {\n",
        "    str(tag_cat): weight for tag_cat, weight in zip(range(len(unique_tags)), weights)\n",
        "}"
      ]
    },
    {
      "cell_type": "markdown",
      "metadata": {
        "id": "gR1ilMZ-0I9P"
      },
      "source": [
        "# [Task 4 - 1.0 points] Metrics\n",
        "\n",
        "Before training the models, you are tasked to define the evaluation metrics for comparison."
      ]
    },
    {
      "cell_type": "markdown",
      "metadata": {
        "id": "rzd_nWCQ0I9Q"
      },
      "source": [
        "### Instructions\n",
        "\n",
        "* Evaluate your models using macro F1-score, compute over **all** tokens.\n",
        "* **Concatenate** all tokens in a data split to compute the F1-score. (**Hint**: accumulate FP, TP, FN, TN iteratively)\n",
        "* **Do not consider punctuation and symbol classes** $\\rightarrow$ [What is punctuation?](https://en.wikipedia.org/wiki/English_punctuation)"
      ]
    },
    {
      "cell_type": "markdown",
      "metadata": {
        "id": "xwjdeYRs0I9Q"
      },
      "source": [
        "**Note**: What about OOV tokens?\n",
        "   * All the tokens in the **training** set that are not in GloVe are **not** considered as OOV\n",
        "   * For the remaining tokens (i.e., OOV in the validation and test sets), you have to assign them a **static** embedding.\n",
        "   * You are **free** to define the static embedding using any strategy (e.g., random, neighbourhood, etc...)"
      ]
    },
    {
      "cell_type": "code",
      "execution_count": 30,
      "metadata": {
        "id": "BvvX1aui0I9Q"
      },
      "outputs": [],
      "source": [
        "def metric(model, text, tag_categorical, labels=None):\n",
        "    # TODO what is a static embedding?\n",
        "\n",
        "    # TODO controllare che questo vada bene: fare la prova accumulando manualmente TP FP TN FN\n",
        "\n",
        "    y_pred = model.predict([text]).argmax(-1).flatten()\n",
        "    y_test_flatten = tag_categorical.argmax(-1).flatten()\n",
        "    score = f1_score(\n",
        "        y_test_flatten,\n",
        "        y_pred,\n",
        "        labels=labels,  # allowed tokens\n",
        "        average=\"macro\",\n",
        "        zero_division=0,\n",
        "    )\n",
        "\n",
        "    return score"
      ]
    },
    {
      "cell_type": "markdown",
      "metadata": {
        "id": "AnKqM46B0I9Q"
      },
      "source": [
        "# [Task 5 - 1.0 points] Training and Evaluation\n",
        "\n",
        "You are now tasked to train and evaluate the Baseline, Model 1, and Model 2."
      ]
    },
    {
      "cell_type": "markdown",
      "metadata": {
        "id": "fPx2pXEb0I9Q"
      },
      "source": [
        "### Instructions\n",
        "\n",
        "* Train **all** models on the train set.\n",
        "* Evaluate **all** models on the validation set.\n",
        "* Compute metrics on the validation set.\n",
        "* Pick **at least** three seeds for robust estimation.\n",
        "* Pick the **best** performing model according to the observed validation set performance."
      ]
    },
    {
      "cell_type": "code",
      "execution_count": 176,
      "metadata": {
        "id": "Fvbi3kvP0I9Q"
      },
      "outputs": [],
      "source": [
        "def experiment(seed, model1=False, model2=False):\n",
        "    set_reproducibility(seed)\n",
        "\n",
        "    model = get_model(add_lstm=model1, add_dense=model2)\n",
        "\n",
        "    ### train model on the train set\n",
        "    history = model.fit(\n",
        "        text_train,\n",
        "        tag_categorical_train,\n",
        "        batch_size=128,\n",
        "        epochs=1,  # TODO\n",
        "        validation_data=(text_val, tag_categorical_val),\n",
        "        callbacks=[early_stopping, reduce_lr],\n",
        "        class_weight=class_weights,\n",
        "    )\n",
        "\n",
        "    ### compute metrics\n",
        "    score = metric(model, text_val, tag_categorical_val)\n",
        "\n",
        "    return score, history, model"
      ]
    },
    {
      "cell_type": "code",
      "execution_count": 32,
      "metadata": {
        "id": "p94lgBYl0I9R"
      },
      "outputs": [],
      "source": [
        "seeds = [333, 666, 999]\n",
        "seeds = [333]"
      ]
    },
    {
      "cell_type": "code",
      "execution_count": 177,
      "metadata": {
        "colab": {
          "base_uri": "https://localhost:8080/"
        },
        "id": "HfqpnOhn0I9R",
        "outputId": "aa36e110-ee1f-4f29-e4af-ecd0419d2657"
      },
      "outputs": [
        {
          "ename": "ValueError",
          "evalue": "Expected `class_weight` to be a dict with keys from 0 to one less than the number of classes, found {'0.0': 1052.3555555555556, '1.0': 3.077063027940221}",
          "output_type": "error",
          "traceback": [
            "\u001b[0;31m---------------------------------------------------------------------------\u001b[0m",
            "\u001b[0;31mValueError\u001b[0m                                Traceback (most recent call last)",
            "Cell \u001b[0;32mIn[177], line 2\u001b[0m\n\u001b[1;32m      1\u001b[0m \u001b[38;5;66;03m### baseline\u001b[39;00m\n\u001b[0;32m----> 2\u001b[0m baseline_results \u001b[38;5;241m=\u001b[39m [experiment(s) \u001b[38;5;28;01mfor\u001b[39;00m s \u001b[38;5;129;01min\u001b[39;00m seeds]\n\u001b[1;32m      3\u001b[0m baseline_scores \u001b[38;5;241m=\u001b[39m [r[\u001b[38;5;241m0\u001b[39m] \u001b[38;5;28;01mfor\u001b[39;00m r \u001b[38;5;129;01min\u001b[39;00m baseline_results]\n\u001b[1;32m      4\u001b[0m baseline_histories \u001b[38;5;241m=\u001b[39m [r[\u001b[38;5;241m1\u001b[39m] \u001b[38;5;28;01mfor\u001b[39;00m r \u001b[38;5;129;01min\u001b[39;00m baseline_results]\n",
            "Cell \u001b[0;32mIn[177], line 2\u001b[0m, in \u001b[0;36m<listcomp>\u001b[0;34m(.0)\u001b[0m\n\u001b[1;32m      1\u001b[0m \u001b[38;5;66;03m### baseline\u001b[39;00m\n\u001b[0;32m----> 2\u001b[0m baseline_results \u001b[38;5;241m=\u001b[39m [\u001b[43mexperiment\u001b[49m\u001b[43m(\u001b[49m\u001b[43ms\u001b[49m\u001b[43m)\u001b[49m \u001b[38;5;28;01mfor\u001b[39;00m s \u001b[38;5;129;01min\u001b[39;00m seeds]\n\u001b[1;32m      3\u001b[0m baseline_scores \u001b[38;5;241m=\u001b[39m [r[\u001b[38;5;241m0\u001b[39m] \u001b[38;5;28;01mfor\u001b[39;00m r \u001b[38;5;129;01min\u001b[39;00m baseline_results]\n\u001b[1;32m      4\u001b[0m baseline_histories \u001b[38;5;241m=\u001b[39m [r[\u001b[38;5;241m1\u001b[39m] \u001b[38;5;28;01mfor\u001b[39;00m r \u001b[38;5;129;01min\u001b[39;00m baseline_results]\n",
            "Cell \u001b[0;32mIn[176], line 7\u001b[0m, in \u001b[0;36mexperiment\u001b[0;34m(seed, model1, model2)\u001b[0m\n\u001b[1;32m      4\u001b[0m model \u001b[38;5;241m=\u001b[39m get_model(add_lstm\u001b[38;5;241m=\u001b[39mmodel1, add_dense\u001b[38;5;241m=\u001b[39mmodel2)\n\u001b[1;32m      6\u001b[0m \u001b[38;5;66;03m### train model on the train set\u001b[39;00m\n\u001b[0;32m----> 7\u001b[0m history \u001b[38;5;241m=\u001b[39m \u001b[43mmodel\u001b[49m\u001b[38;5;241;43m.\u001b[39;49m\u001b[43mfit\u001b[49m\u001b[43m(\u001b[49m\n\u001b[1;32m      8\u001b[0m \u001b[43m    \u001b[49m\u001b[43mtext_train\u001b[49m\u001b[43m,\u001b[49m\n\u001b[1;32m      9\u001b[0m \u001b[43m    \u001b[49m\u001b[43mtag_categorical_train\u001b[49m\u001b[43m,\u001b[49m\n\u001b[1;32m     10\u001b[0m \u001b[43m    \u001b[49m\u001b[43mbatch_size\u001b[49m\u001b[38;5;241;43m=\u001b[39;49m\u001b[38;5;241;43m128\u001b[39;49m\u001b[43m,\u001b[49m\n\u001b[1;32m     11\u001b[0m \u001b[43m    \u001b[49m\u001b[43mepochs\u001b[49m\u001b[38;5;241;43m=\u001b[39;49m\u001b[38;5;241;43m1\u001b[39;49m\u001b[43m,\u001b[49m\u001b[43m  \u001b[49m\u001b[38;5;66;43;03m# TODO\u001b[39;49;00m\n\u001b[1;32m     12\u001b[0m \u001b[43m    \u001b[49m\u001b[43mvalidation_data\u001b[49m\u001b[38;5;241;43m=\u001b[39;49m\u001b[43m(\u001b[49m\u001b[43mtext_val\u001b[49m\u001b[43m,\u001b[49m\u001b[43m \u001b[49m\u001b[43mtag_categorical_val\u001b[49m\u001b[43m)\u001b[49m\u001b[43m,\u001b[49m\n\u001b[1;32m     13\u001b[0m \u001b[43m    \u001b[49m\u001b[43mcallbacks\u001b[49m\u001b[38;5;241;43m=\u001b[39;49m\u001b[43m[\u001b[49m\u001b[43mearly_stopping\u001b[49m\u001b[43m,\u001b[49m\u001b[43m \u001b[49m\u001b[43mreduce_lr\u001b[49m\u001b[43m]\u001b[49m\u001b[43m,\u001b[49m\n\u001b[1;32m     14\u001b[0m \u001b[43m    \u001b[49m\u001b[43mclass_weight\u001b[49m\u001b[38;5;241;43m=\u001b[39;49m\u001b[43mclass_weights\u001b[49m\u001b[43m,\u001b[49m\n\u001b[1;32m     15\u001b[0m \u001b[43m\u001b[49m\u001b[43m)\u001b[49m\n\u001b[1;32m     17\u001b[0m \u001b[38;5;66;03m### compute metrics\u001b[39;00m\n\u001b[1;32m     18\u001b[0m score \u001b[38;5;241m=\u001b[39m metric(model, text_val, tag_categorical_val)\n",
            "File \u001b[0;32m~/Projects/NLP_aSSIGNMENT_1/NLP/.venv/lib/python3.8/site-packages/keras/src/utils/traceback_utils.py:70\u001b[0m, in \u001b[0;36mfilter_traceback.<locals>.error_handler\u001b[0;34m(*args, **kwargs)\u001b[0m\n\u001b[1;32m     67\u001b[0m     filtered_tb \u001b[38;5;241m=\u001b[39m _process_traceback_frames(e\u001b[38;5;241m.\u001b[39m__traceback__)\n\u001b[1;32m     68\u001b[0m     \u001b[38;5;66;03m# To get the full stack trace, call:\u001b[39;00m\n\u001b[1;32m     69\u001b[0m     \u001b[38;5;66;03m# `tf.debugging.disable_traceback_filtering()`\u001b[39;00m\n\u001b[0;32m---> 70\u001b[0m     \u001b[38;5;28;01mraise\u001b[39;00m e\u001b[38;5;241m.\u001b[39mwith_traceback(filtered_tb) \u001b[38;5;28;01mfrom\u001b[39;00m \u001b[38;5;28;01mNone\u001b[39;00m\n\u001b[1;32m     71\u001b[0m \u001b[38;5;28;01mfinally\u001b[39;00m:\n\u001b[1;32m     72\u001b[0m     \u001b[38;5;28;01mdel\u001b[39;00m filtered_tb\n",
            "File \u001b[0;32m~/Projects/NLP_aSSIGNMENT_1/NLP/.venv/lib/python3.8/site-packages/keras/src/engine/data_adapter.py:1702\u001b[0m, in \u001b[0;36m_make_class_weight_map_fn\u001b[0;34m(class_weight)\u001b[0m\n\u001b[1;32m   1697\u001b[0m \u001b[38;5;28;01mif\u001b[39;00m class_ids \u001b[38;5;241m!=\u001b[39m expected_class_ids:\n\u001b[1;32m   1698\u001b[0m     error_msg \u001b[38;5;241m=\u001b[39m (\n\u001b[1;32m   1699\u001b[0m         \u001b[38;5;124m\"\u001b[39m\u001b[38;5;124mExpected `class_weight` to be a dict with keys from 0 to one less \u001b[39m\u001b[38;5;124m\"\u001b[39m\n\u001b[1;32m   1700\u001b[0m         \u001b[38;5;124m\"\u001b[39m\u001b[38;5;124mthan the number of classes, found \u001b[39m\u001b[38;5;132;01m{}\u001b[39;00m\u001b[38;5;124m\"\u001b[39m\n\u001b[1;32m   1701\u001b[0m     )\u001b[38;5;241m.\u001b[39mformat(class_weight)\n\u001b[0;32m-> 1702\u001b[0m     \u001b[38;5;28;01mraise\u001b[39;00m \u001b[38;5;167;01mValueError\u001b[39;00m(error_msg)\n\u001b[1;32m   1704\u001b[0m class_weight_tensor \u001b[38;5;241m=\u001b[39m tf\u001b[38;5;241m.\u001b[39mconvert_to_tensor(\n\u001b[1;32m   1705\u001b[0m     [class_weight[\u001b[38;5;28mint\u001b[39m(c)] \u001b[38;5;28;01mfor\u001b[39;00m c \u001b[38;5;129;01min\u001b[39;00m class_ids]\n\u001b[1;32m   1706\u001b[0m )\n\u001b[1;32m   1708\u001b[0m \u001b[38;5;28;01mdef\u001b[39;00m \u001b[38;5;21m_class_weights_map_fn\u001b[39m(\u001b[38;5;241m*\u001b[39mdata):\n",
            "\u001b[0;31mValueError\u001b[0m: Expected `class_weight` to be a dict with keys from 0 to one less than the number of classes, found {'0.0': 1052.3555555555556, '1.0': 3.077063027940221}"
          ]
        }
      ],
      "source": [
        "### baseline\n",
        "baseline_results = [experiment(s) for s in seeds]\n",
        "baseline_scores = [r[0] for r in baseline_results]\n",
        "baseline_histories = [r[1] for r in baseline_results]\n",
        "baseline_models = [r[2] for r in baseline_results]"
      ]
    },
    {
      "cell_type": "code",
      "execution_count": 34,
      "metadata": {
        "colab": {
          "base_uri": "https://localhost:8080/",
          "height": 447
        },
        "id": "LZXj5av10I9R",
        "outputId": "dc822ea7-1768-44c1-a152-9df04c4348b5"
      },
      "outputs": [
        {
          "name": "stdout",
          "output_type": "stream",
          "text": [
            "0.08637484801872455\n"
          ]
        },
        {
          "data": {
            "image/png": "[encoded data removed]",
            "text/plain": [
              "<Figure size 640x480 with 1 Axes>"
            ]
          },
          "metadata": {},
          "output_type": "display_data"
        }
      ],
      "source": [
        "[print(h) for h in baseline_scores]\n",
        "[plt.plot(h.history[\"loss\"]) for h in baseline_histories]\n",
        "\n",
        "plt.show()"
      ]
    },
    {
      "cell_type": "code",
      "execution_count": 35,
      "metadata": {
        "colab": {
          "base_uri": "https://localhost:8080/"
        },
        "id": "46QYti0H0I9R",
        "outputId": "521694cc-171e-4d0d-e5ba-0d9a50391f3c"
      },
      "outputs": [
        {
          "name": "stdout",
          "output_type": "stream",
          "text": [
            "16/16 [==============================] - 14s 604ms/step - loss: 1.3183 - accuracy: 0.8950 - val_loss: 0.2582 - val_accuracy: 0.9416 - lr: 0.0050\n",
            "41/41 [==============================] - 2s 38ms/step\n"
          ]
        }
      ],
      "source": [
        "### model1\n",
        "model1_results = [experiment(s, model1=True) for s in seeds]\n",
        "model1_scores = [r[0] for r in model1_results]\n",
        "model1_histories = [r[1] for r in model1_results]\n",
        "model1_models = [r[2] for r in model1_results]"
      ]
    },
    {
      "cell_type": "code",
      "execution_count": null,
      "metadata": {
        "colab": {
          "base_uri": "https://localhost:8080/",
          "height": 447
        },
        "id": "xbWGnixU0I9R",
        "outputId": "f2eabe6f-5ee5-4905-d5e2-4836e7835923"
      },
      "outputs": [],
      "source": [
        "[print(h) for h in model1_scores]\n",
        "[plt.plot(h.history[\"loss\"]) for h in model1_histories]\n",
        "plt.show()"
      ]
    },
    {
      "cell_type": "code",
      "execution_count": 36,
      "metadata": {
        "colab": {
          "base_uri": "https://localhost:8080/"
        },
        "id": "Snfr3NNo0I9S",
        "outputId": "d5c4e4ab-a26b-4d1d-a82e-5e3bf0bdad22"
      },
      "outputs": [
        {
          "name": "stdout",
          "output_type": "stream",
          "text": [
            "16/16 [==============================] - 14s 615ms/step - loss: 1.3920 - accuracy: 0.8883 - val_loss: 0.2807 - val_accuracy: 0.9202 - lr: 0.0050\n",
            "41/41 [==============================] - 3s 53ms/step\n"
          ]
        }
      ],
      "source": [
        "### model2\n",
        "model2_results = [experiment(s, model2=True) for s in seeds]\n",
        "model2_scores = [r[0] for r in model2_results]\n",
        "model2_histories = [r[1] for r in model2_results]\n",
        "model2_models = [r[2] for r in model2_results]"
      ]
    },
    {
      "cell_type": "code",
      "execution_count": 99,
      "metadata": {},
      "outputs": [
        {
          "name": "stdout",
          "output_type": "stream",
          "text": [
            "You must install pydot (`pip install pydot`) and install graphviz (see instructions at https://graphviz.gitlab.io/download/) for plot_model to work.\n"
          ]
        }
      ],
      "source": [
        "plot_model(baseline_models[0], show_shapes=True, dpi=76)"
      ]
    },
    {
      "cell_type": "code",
      "execution_count": null,
      "metadata": {},
      "outputs": [],
      "source": [
        "plot_model(model1_models[0], show_shapes=True, dpi=76)"
      ]
    },
    {
      "cell_type": "code",
      "execution_count": null,
      "metadata": {},
      "outputs": [],
      "source": [
        "plot_model(model2_models[0], show_shapes=True, dpi=76)"
      ]
    },
    {
      "cell_type": "code",
      "execution_count": null,
      "metadata": {
        "colab": {
          "base_uri": "https://localhost:8080/",
          "height": 447
        },
        "id": "fn6Mx_Xt0I9S",
        "outputId": "a3daa7ad-d037-4ca2-9c4c-3ae5258d107b"
      },
      "outputs": [],
      "source": [
        "[print(h) for h in model2_scores]\n",
        "[plt.plot(h.history[\"loss\"]) for h in model2_histories]\n",
        "plt.show()"
      ]
    },
    {
      "cell_type": "code",
      "execution_count": 78,
      "metadata": {
        "colab": {
          "base_uri": "https://localhost:8080/"
        },
        "id": "ipLCInborqUY",
        "outputId": "d8c9fae7-4c33-43fe-ff03-1253b18fb742"
      },
      "outputs": [
        {
          "name": "stdout",
          "output_type": "stream",
          "text": [
            "41/41 [==============================] - 2s 46ms/step\n",
            "41/41 [==============================] - 2s 37ms/step\n",
            "41/41 [==============================] - 2s 42ms/step\n",
            "Models avg f1 score and standard deviations on the validation set, not considering punctuation:\n",
            "Baseline: \t0.0610\t 0.0000\n",
            "Model1: \t0.0600\t 0.0000\n",
            "Model2: \t0.0199\t 0.0000\n"
          ]
        }
      ],
      "source": [
        "### compute metrics on validation set\n",
        "\n",
        "baseline_val_metrics = [\n",
        "    metric(m, text_val, tag_categorical_val, labels=allowed_tokens)\n",
        "    for m in baseline_models\n",
        "]\n",
        "model1_val_metrics = [\n",
        "    metric(m, text_val, tag_categorical_val, labels=allowed_tokens)\n",
        "    for m in model1_models\n",
        "]\n",
        "model2_val_metrics = [\n",
        "    metric(m, text_val, tag_categorical_val, labels=allowed_tokens)\n",
        "    for m in model2_models\n",
        "]\n",
        "\n",
        "baseline_val_avg = np.average(baseline_val_metrics)\n",
        "model1_val_avg = np.average(model1_val_metrics)\n",
        "model2_val_avg = np.average(model2_val_metrics)\n",
        "\n",
        "baseline_val_std = np.std(baseline_val_metrics)\n",
        "model1_val_std = np.std(model1_val_metrics)\n",
        "model2_val_std = np.std(model2_val_metrics)\n",
        "\n",
        "print(\n",
        "    \"Models avg f1 score and standard deviations on the validation set, not considering punctuation:\"\n",
        ")\n",
        "print(f\"Baseline: \\t{baseline_val_avg:.4f}\\t {baseline_val_std:.4f}\")\n",
        "print(f\"Model1: \\t{model1_val_avg:.4f}\\t {model1_val_std:.4f}\")\n",
        "print(f\"Model2: \\t{model2_val_avg:.4f}\\t {model2_val_std:.4f}\")"
      ]
    },
    {
      "cell_type": "code",
      "execution_count": 77,
      "metadata": {},
      "outputs": [
        {
          "name": "stdout",
          "output_type": "stream",
          "text": [
            "best model: baseline_333\n"
          ]
        }
      ],
      "source": [
        "### pick best performing model\n",
        "names = [\n",
        "    [f\"{model}_{seed}\" for seed in seeds] for model in (\"baseline\", \"model1\", \"model2\")\n",
        "]\n",
        "\n",
        "d = {}\n",
        "# metti in parallelo le liste\n",
        "for model_list, score_list, name_list in zip(\n",
        "    [baseline_models, model1_models, model2_models],\n",
        "    [baseline_val_metrics, model1_val_metrics, model2_val_metrics],\n",
        "    [\n",
        "        [f\"baseline_{s}\" for s in seeds],\n",
        "        [f\"model1_{s}\" for s in seeds],\n",
        "        [f\"model2_{s}\" for s in seeds],\n",
        "    ],\n",
        "):\n",
        "    # itera sugli elementi di ogni lista\n",
        "    for m, s, n in zip(model_list, score_list, name_list):\n",
        "        d.update({s: (m, n)})\n",
        "\n",
        "val_score = max(d)\n",
        "best_model, best_model_name = d[val_score]\n",
        "\n",
        "print(f\"best model: {best_model_name}\")\n",
        "\n",
        "# report: commento sui risultati: il training è un po' rumoroso (si può migliorare),"
      ]
    },
    {
      "cell_type": "code",
      "execution_count": 85,
      "metadata": {},
      "outputs": [
        {
          "name": "stdout",
          "output_type": "stream",
          "text": [
            "best model/score per kind:\n",
            "baseline_(333)\t\tmodel1_(333)\t\tmodel2_(333)\n",
            "0.06098356257371214 0.05997036583084678 0.019859742626739323\n"
          ]
        }
      ],
      "source": [
        "### compute metrics for the best model of each kind (baseline, model1, model2)\n",
        "names = [\n",
        "    [f\"{model}_{seed}\" for seed in seeds] for model in (\"baseline\", \"model1\", \"model2\")\n",
        "]\n",
        "\n",
        "l = []\n",
        "for model_list, score_list, name_list in zip(\n",
        "    [baseline_models, model1_models, model2_models],\n",
        "    [baseline_val_metrics, model1_val_metrics, model2_val_metrics],\n",
        "    [\n",
        "        [f\"baseline_({s})\" for s in seeds],\n",
        "        [f\"model1_({s})\" for s in seeds],\n",
        "        [f\"model2_({s})\" for s in seeds],\n",
        "    ],\n",
        "):\n",
        "    # itera sugli elementi di ogni lista\n",
        "    d = {}\n",
        "    for m, s, n in zip(model_list, score_list, name_list):\n",
        "        d.update({s: (m, n)})\n",
        "    l += [d]\n",
        "\n",
        "max_score_per_kind = [max(d) for d in l]\n",
        "best_model_per_kind = [d[m][0] for d, m in zip(l, max_score_per_kind)]\n",
        "best_model_name_per_kind = [d[m][1] for d, m in zip(l, max_score_per_kind)]\n",
        "\n",
        "print(f\"best model/score per kind:\")\n",
        "print(*best_model_name_per_kind, sep=\"\\t\\t\")\n",
        "print(*max_score_per_kind)"
      ]
    },
    {
      "cell_type": "markdown",
      "metadata": {
        "id": "b5WfKXd90I9S"
      },
      "source": [
        "# [Task 6 - 1.0 points] Error Analysis\n",
        "\n",
        "You are tasked to evaluate your best performing model."
      ]
    },
    {
      "cell_type": "markdown",
      "metadata": {
        "id": "He8u4f_-0I9S"
      },
      "source": [
        "### Instructions\n",
        "\n",
        "* Compare the errors made on the validation and test sets.\n",
        "* Aggregate model errors into categories (if possible)\n",
        "* Comment the about errors and propose possible solutions on how to address them."
      ]
    },
    {
      "cell_type": "code",
      "execution_count": 38,
      "metadata": {
        "colab": {
          "base_uri": "https://localhost:8080/"
        },
        "id": "UvYNzPw40I9S",
        "outputId": "ea623426-e05b-4c0b-8e73-2b072533adad"
      },
      "outputs": [
        {
          "name": "stdout",
          "output_type": "stream",
          "text": [
            "21/21 [==============================] - 1s 42ms/step\n",
            "0.06352656781309904\n",
            "41/41 [==============================] - 2s 44ms/step\n",
            "41/41 [==============================] - 2s 50ms/step\n",
            "41/41 [==============================] - 2s 40ms/step\n",
            "41/41 [==============================] - 2s 44ms/step\n",
            "41/41 [==============================] - 2s 44ms/step\n",
            "41/41 [==============================] - 2s 51ms/step\n",
            "41/41 [==============================] - 2s 54ms/step\n",
            "41/41 [==============================] - 3s 63ms/step\n",
            "41/41 [==============================] - 2s 55ms/step\n",
            "41/41 [==============================] - 2s 57ms/step\n",
            "41/41 [==============================] - 2s 59ms/step\n",
            "41/41 [==============================] - 2s 53ms/step\n",
            "41/41 [==============================] - 2s 51ms/step\n",
            "41/41 [==============================] - 3s 63ms/step\n",
            "41/41 [==============================] - 2s 50ms/step\n",
            "41/41 [==============================] - 2s 55ms/step\n",
            "41/41 [==============================] - 2s 55ms/step\n",
            "41/41 [==============================] - 2s 53ms/step\n",
            "41/41 [==============================] - 2s 57ms/step\n",
            "41/41 [==============================] - 2s 55ms/step\n",
            "41/41 [==============================] - 2s 51ms/step\n",
            "41/41 [==============================] - 2s 50ms/step\n",
            "41/41 [==============================] - 2s 52ms/step\n",
            "41/41 [==============================] - 2s 57ms/step\n",
            "41/41 [==============================] - 2s 52ms/step\n",
            "41/41 [==============================] - 2s 54ms/step\n",
            "41/41 [==============================] - 2s 56ms/step\n",
            "41/41 [==============================] - 2s 53ms/step\n",
            "41/41 [==============================] - 2s 59ms/step\n",
            "41/41 [==============================] - 2s 51ms/step\n",
            "41/41 [==============================] - 3s 65ms/step\n",
            "41/41 [==============================] - 2s 53ms/step\n",
            "41/41 [==============================] - 2s 53ms/step\n",
            "41/41 [==============================] - 2s 61ms/step\n",
            "41/41 [==============================] - 2s 47ms/step\n",
            "21/21 [==============================] - 1s 48ms/step\n",
            "21/21 [==============================] - 1s 47ms/step\n",
            "21/21 [==============================] - 1s 47ms/step\n",
            "21/21 [==============================] - 1s 64ms/step\n",
            "21/21 [==============================] - 1s 37ms/step\n",
            "21/21 [==============================] - 1s 44ms/step\n",
            "21/21 [==============================] - 1s 44ms/step\n",
            "21/21 [==============================] - 1s 46ms/step\n",
            "21/21 [==============================] - 1s 48ms/step\n",
            "21/21 [==============================] - 1s 50ms/step\n",
            "21/21 [==============================] - 1s 55ms/step\n",
            "21/21 [==============================] - 2s 72ms/step\n",
            "21/21 [==============================] - 2s 70ms/step\n",
            "21/21 [==============================] - 1s 57ms/step\n",
            "21/21 [==============================] - 2s 73ms/step\n",
            "21/21 [==============================] - 1s 66ms/step\n",
            "21/21 [==============================] - 2s 81ms/step\n",
            "21/21 [==============================] - 1s 57ms/step\n",
            "21/21 [==============================] - 1s 67ms/step\n",
            "21/21 [==============================] - 1s 67ms/step\n",
            "21/21 [==============================] - 1s 60ms/step\n",
            "21/21 [==============================] - 1s 55ms/step\n",
            "21/21 [==============================] - 1s 51ms/step\n",
            "21/21 [==============================] - 1s 52ms/step\n",
            "21/21 [==============================] - 1s 54ms/step\n",
            "21/21 [==============================] - 1s 60ms/step\n",
            "21/21 [==============================] - 1s 55ms/step\n",
            "21/21 [==============================] - 1s 53ms/step\n",
            "21/21 [==============================] - 1s 52ms/step\n",
            "21/21 [==============================] - 1s 51ms/step\n",
            "21/21 [==============================] - 1s 60ms/step\n",
            "21/21 [==============================] - 1s 53ms/step\n",
            "21/21 [==============================] - 1s 54ms/step\n",
            "21/21 [==============================] - 1s 49ms/step\n",
            "21/21 [==============================] - 1s 50ms/step\n",
            "TAG\tval\ttest\n",
            "nn\t0.39036859899398046\t0.3912101516558341\n",
            "nnp\t0.3833820533262468\t0.40498442367601245\n",
            "in\t0.6042730588848358\t0.639948006932409\n",
            "dt\t0.715114672561481\t0.7414492753623187\n",
            "nns\t0.035103926096997695\t0.039337474120082816\n",
            "jj\t0.006182380216383308\t0.0065005417118093175\n",
            "vbd\t0.0\t0.0\n",
            "rb\t0.0\t0.0\n",
            "cd\t0.0\t0.0\n",
            "vb\t0.0\t0.0\n",
            "cc\t0.0\t0.0\n",
            "vbz\t0.0\t0.0\n",
            "vbn\t0.0\t0.0\n",
            "to\t0.0\t0.0\n",
            "prp\t0.0\t0.0\n",
            "vbg\t0.0\t0.0\n",
            "vbp\t0.0\t0.0\n",
            "md\t0.0\t0.0\n",
            "prp$\t0.0\t0.0\n",
            "pos\t0.0\t0.0\n",
            "wdt\t0.0\t0.0\n",
            "jjr\t0.0\t0.0\n",
            "wp\t0.0\t0.0\n",
            "rp\t0.0\t0.0\n",
            "nnps\t0.0\t0.0\n",
            "jjs\t0.0\t0.0\n",
            "wrb\t0.0\t0.0\n",
            "rbr\t0.0\t0.0\n",
            "ex\t0.0\t0.0\n",
            "rbs\t0.0\t0.0\n",
            "ls\t0.0\t0.0\n",
            "pdt\t0.0\t0.0\n",
            "wp$\t0.0\t0.0\n",
            "fw\t0.0\t0.0\n",
            "uh\t0.0\t0.0\n"
          ]
        }
      ],
      "source": [
        "### compare errors made on validation and test set for the best model\n",
        "test_score = metric(best_model, text_test, tag_categorical_test, labels=allowed_tokens)\n",
        "print(test_score)\n",
        "\n",
        "val_score_per_cat = [\n",
        "    metric(best_model, text_val, tag_categorical_val, labels=[t])\n",
        "    for t in allowed_tokens\n",
        "]\n",
        "test_score_per_cat = [\n",
        "    metric(best_model, text_test, tag_categorical_test, labels=[t])\n",
        "    for t in allowed_tokens\n",
        "]"
      ]
    },
    {
      "cell_type": "code",
      "execution_count": null,
      "metadata": {},
      "outputs": [],
      "source": [
        "### aggregate model erors into categories\n",
        "\n",
        "# spero che categories siano quelle della classificazione e non \"categorie di errori\" tipo FP FN\n",
        "print(\"TAG\\tval\\ttest\")\n",
        "for c, v, t in zip(allowed_classes, val_score_per_cat, test_score_per_cat):\n",
        "    print(f\"{c}\\t{v}\\t{t}\")\n",
        "\n",
        "# propose solutions:  qualche categoria manca qui e là"
      ]
    },
    {
      "cell_type": "code",
      "execution_count": 94,
      "metadata": {
        "colab": {
          "base_uri": "https://localhost:8080/"
        },
        "id": "Rkp2S9DGrqUZ",
        "outputId": "bd3ad7c0-365b-494f-cd72-3773a96cde8d"
      },
      "outputs": [
        {
          "name": "stdout",
          "output_type": "stream",
          "text": [
            " 1/41 [..............................] - ETA: 2s"
          ]
        },
        {
          "name": "stdout",
          "output_type": "stream",
          "text": [
            "41/41 [==============================] - 2s 39ms/step\n",
            "21/21 [==============================] - 1s 39ms/step\n",
            "21/21 [==============================] - 1s 37ms/step\n",
            "21/21 [==============================] - 1s 32ms/step\n",
            "21/21 [==============================] - 1s 34ms/step\n",
            "41/41 [==============================] - 1s 33ms/step\n",
            "41/41 [==============================] - 1s 33ms/step\n",
            "41/41 [==============================] - 1s 36ms/step\n",
            "41/41 [==============================] - 1s 34ms/step\n",
            "41/41 [==============================] - 1s 35ms/step\n",
            "41/41 [==============================] - 1s 35ms/step\n",
            "41/41 [==============================] - 1s 33ms/step\n",
            "41/41 [==============================] - 1s 36ms/step\n",
            "41/41 [==============================] - 1s 32ms/step\n",
            "41/41 [==============================] - 1s 32ms/step\n",
            "41/41 [==============================] - 1s 31ms/step\n",
            "41/41 [==============================] - 1s 32ms/step\n",
            "41/41 [==============================] - 2s 39ms/step\n",
            "41/41 [==============================] - 2s 39ms/step\n",
            "41/41 [==============================] - 2s 38ms/step\n",
            "41/41 [==============================] - 2s 43ms/step\n",
            "41/41 [==============================] - 2s 39ms/step\n",
            "41/41 [==============================] - 2s 54ms/step\n",
            "41/41 [==============================] - 2s 56ms/step\n",
            "41/41 [==============================] - 2s 51ms/step\n",
            "41/41 [==============================] - 2s 53ms/step\n",
            "41/41 [==============================] - 2s 49ms/step\n",
            "41/41 [==============================] - 2s 46ms/step\n",
            "41/41 [==============================] - 2s 38ms/step\n",
            "41/41 [==============================] - 1s 33ms/step\n",
            "41/41 [==============================] - 1s 35ms/step\n",
            "41/41 [==============================] - 1s 34ms/step\n",
            "41/41 [==============================] - 1s 33ms/step\n",
            "41/41 [==============================] - 1s 33ms/step\n",
            "41/41 [==============================] - 2s 38ms/step\n",
            "41/41 [==============================] - 2s 44ms/step\n",
            "41/41 [==============================] - 2s 38ms/step\n",
            "41/41 [==============================] - 2s 38ms/step\n",
            "41/41 [==============================] - 2s 41ms/step\n",
            "41/41 [==============================] - 2s 43ms/step\n",
            "41/41 [==============================] - 2s 38ms/step\n",
            "41/41 [==============================] - 2s 38ms/step\n",
            "41/41 [==============================] - 2s 46ms/step\n",
            "41/41 [==============================] - 2s 38ms/step\n",
            "41/41 [==============================] - 2s 37ms/step\n",
            "41/41 [==============================] - 2s 42ms/step\n",
            "41/41 [==============================] - 2s 41ms/step\n",
            "41/41 [==============================] - 2s 40ms/step\n",
            "41/41 [==============================] - 2s 48ms/step\n",
            "41/41 [==============================] - 2s 39ms/step\n",
            "41/41 [==============================] - 2s 40ms/step\n",
            "41/41 [==============================] - 2s 54ms/step\n",
            "41/41 [==============================] - 2s 41ms/step\n",
            "41/41 [==============================] - 2s 38ms/step\n",
            "41/41 [==============================] - 2s 39ms/step\n",
            "41/41 [==============================] - 2s 37ms/step\n",
            "41/41 [==============================] - 2s 37ms/step\n",
            "41/41 [==============================] - 2s 42ms/step\n",
            "41/41 [==============================] - 2s 37ms/step\n",
            "41/41 [==============================] - 2s 37ms/step\n",
            "41/41 [==============================] - 2s 37ms/step\n",
            "41/41 [==============================] - 1s 36ms/step\n",
            "41/41 [==============================] - 2s 41ms/step\n",
            "41/41 [==============================] - 1s 36ms/step\n",
            "41/41 [==============================] - 1s 36ms/step\n",
            "41/41 [==============================] - 2s 38ms/step\n",
            "41/41 [==============================] - 2s 47ms/step\n",
            "41/41 [==============================] - 2s 39ms/step\n",
            "41/41 [==============================] - 2s 46ms/step\n",
            "41/41 [==============================] - 2s 39ms/step\n",
            "41/41 [==============================] - 2s 39ms/step\n",
            "41/41 [==============================] - 2s 40ms/step\n",
            "41/41 [==============================] - 2s 37ms/step\n",
            "41/41 [==============================] - 2s 43ms/step\n",
            "41/41 [==============================] - 2s 38ms/step\n",
            "41/41 [==============================] - 2s 40ms/step\n",
            "41/41 [==============================] - 1s 34ms/step\n",
            "41/41 [==============================] - 2s 37ms/step\n",
            "41/41 [==============================] - 2s 50ms/step\n",
            "41/41 [==============================] - 2s 49ms/step\n",
            "41/41 [==============================] - 2s 51ms/step\n",
            "41/41 [==============================] - 2s 53ms/step\n",
            "41/41 [==============================] - 2s 44ms/step\n",
            "41/41 [==============================] - 2s 45ms/step\n",
            "41/41 [==============================] - 2s 44ms/step\n",
            "41/41 [==============================] - 2s 45ms/step\n",
            "41/41 [==============================] - 2s 48ms/step\n",
            "41/41 [==============================] - 2s 46ms/step\n",
            "41/41 [==============================] - 2s 58ms/step\n",
            "41/41 [==============================] - 2s 56ms/step\n",
            "41/41 [==============================] - 2s 48ms/step\n",
            "41/41 [==============================] - 2s 57ms/step\n",
            "41/41 [==============================] - 2s 45ms/step\n",
            "41/41 [==============================] - 2s 50ms/step\n",
            "41/41 [==============================] - 2s 48ms/step\n",
            "41/41 [==============================] - 2s 52ms/step\n",
            "41/41 [==============================] - 2s 57ms/step\n",
            "41/41 [==============================] - 2s 54ms/step\n",
            "41/41 [==============================] - 2s 47ms/step\n",
            "41/41 [==============================] - 2s 48ms/step\n",
            "41/41 [==============================] - 2s 39ms/step\n",
            "41/41 [==============================] - 2s 38ms/step\n",
            "41/41 [==============================] - 2s 38ms/step\n",
            "41/41 [==============================] - 2s 38ms/step\n",
            "41/41 [==============================] - 2s 43ms/step\n",
            "41/41 [==============================] - 2s 37ms/step\n",
            "41/41 [==============================] - 2s 37ms/step\n",
            "41/41 [==============================] - 2s 38ms/step\n",
            "41/41 [==============================] - 2s 37ms/step\n",
            "41/41 [==============================] - 2s 37ms/step\n",
            "21/21 [==============================] - 1s 45ms/step\n",
            "21/21 [==============================] - 1s 37ms/step\n",
            "21/21 [==============================] - 1s 35ms/step\n",
            "21/21 [==============================] - 1s 35ms/step\n",
            "21/21 [==============================] - 1s 36ms/step\n",
            "21/21 [==============================] - 1s 35ms/step\n",
            "21/21 [==============================] - 1s 35ms/step\n",
            "21/21 [==============================] - 1s 37ms/step\n",
            "21/21 [==============================] - 1s 45ms/step\n",
            "21/21 [==============================] - 1s 35ms/step\n",
            "21/21 [==============================] - 1s 36ms/step\n",
            "21/21 [==============================] - 1s 35ms/step\n",
            "21/21 [==============================] - 1s 35ms/step\n",
            "21/21 [==============================] - 1s 36ms/step\n",
            "21/21 [==============================] - 1s 36ms/step\n",
            "21/21 [==============================] - 1s 35ms/step\n",
            "21/21 [==============================] - 1s 36ms/step\n",
            "21/21 [==============================] - 1s 31ms/step\n",
            "21/21 [==============================] - 1s 36ms/step\n",
            "21/21 [==============================] - 1s 36ms/step\n",
            "21/21 [==============================] - 1s 36ms/step\n",
            "21/21 [==============================] - 1s 35ms/step\n",
            "21/21 [==============================] - 1s 36ms/step\n",
            "21/21 [==============================] - 1s 35ms/step\n",
            "21/21 [==============================] - 1s 33ms/step\n",
            "21/21 [==============================] - 1s 29ms/step\n",
            "21/21 [==============================] - 1s 35ms/step\n",
            "21/21 [==============================] - 1s 38ms/step\n",
            "21/21 [==============================] - 1s 35ms/step\n",
            "21/21 [==============================] - 1s 34ms/step\n",
            "21/21 [==============================] - 1s 33ms/step\n",
            "21/21 [==============================] - 1s 34ms/step\n",
            "21/21 [==============================] - 1s 35ms/step\n",
            "21/21 [==============================] - 1s 46ms/step\n",
            "21/21 [==============================] - 1s 38ms/step\n",
            "21/21 [==============================] - 1s 46ms/step\n",
            "21/21 [==============================] - 1s 37ms/step\n",
            "21/21 [==============================] - 1s 37ms/step\n",
            "21/21 [==============================] - 1s 35ms/step\n",
            "21/21 [==============================] - 1s 37ms/step\n",
            "21/21 [==============================] - 1s 43ms/step\n",
            "21/21 [==============================] - 1s 46ms/step\n",
            "21/21 [==============================] - 1s 53ms/step\n",
            "21/21 [==============================] - 1s 60ms/step\n",
            "21/21 [==============================] - 1s 52ms/step\n",
            "21/21 [==============================] - 1s 46ms/step\n",
            "21/21 [==============================] - 1s 43ms/step\n",
            "21/21 [==============================] - 1s 54ms/step\n",
            "21/21 [==============================] - 1s 42ms/step\n",
            "21/21 [==============================] - 1s 33ms/step\n",
            "21/21 [==============================] - 1s 32ms/step\n",
            "21/21 [==============================] - 1s 34ms/step\n",
            "21/21 [==============================] - 1s 33ms/step\n",
            "21/21 [==============================] - 1s 36ms/step\n",
            "21/21 [==============================] - 1s 28ms/step\n",
            "21/21 [==============================] - 1s 33ms/step\n",
            "21/21 [==============================] - 1s 28ms/step\n",
            "21/21 [==============================] - 1s 32ms/step\n",
            "21/21 [==============================] - 1s 33ms/step\n",
            "21/21 [==============================] - 1s 32ms/step\n",
            "21/21 [==============================] - 1s 33ms/step\n",
            "21/21 [==============================] - 1s 41ms/step\n",
            "21/21 [==============================] - 1s 34ms/step\n",
            "21/21 [==============================] - 1s 37ms/step\n",
            "21/21 [==============================] - 1s 37ms/step\n",
            "21/21 [==============================] - 1s 39ms/step\n",
            "21/21 [==============================] - 1s 40ms/step\n",
            "21/21 [==============================] - 1s 37ms/step\n",
            "21/21 [==============================] - 1s 33ms/step\n",
            "21/21 [==============================] - 1s 46ms/step\n",
            "21/21 [==============================] - 1s 46ms/step\n",
            "21/21 [==============================] - 1s 46ms/step\n",
            "21/21 [==============================] - 1s 39ms/step\n",
            "21/21 [==============================] - 1s 34ms/step\n",
            "21/21 [==============================] - 1s 37ms/step\n",
            "21/21 [==============================] - 1s 34ms/step\n",
            "21/21 [==============================] - 1s 37ms/step\n",
            "21/21 [==============================] - 1s 35ms/step\n",
            "21/21 [==============================] - 1s 35ms/step\n",
            "21/21 [==============================] - 1s 33ms/step\n",
            "21/21 [==============================] - 1s 34ms/step\n",
            "21/21 [==============================] - 1s 34ms/step\n",
            "21/21 [==============================] - 1s 37ms/step\n",
            "21/21 [==============================] - 1s 40ms/step\n",
            "21/21 [==============================] - 1s 44ms/step\n",
            "21/21 [==============================] - 1s 40ms/step\n",
            "21/21 [==============================] - 1s 47ms/step\n",
            "21/21 [==============================] - 1s 41ms/step\n",
            "21/21 [==============================] - 1s 35ms/step\n",
            "21/21 [==============================] - 1s 35ms/step\n",
            "21/21 [==============================] - 1s 33ms/step\n",
            "21/21 [==============================] - 1s 40ms/step\n",
            "21/21 [==============================] - 1s 32ms/step\n",
            "21/21 [==============================] - 1s 38ms/step\n",
            "21/21 [==============================] - 1s 37ms/step\n",
            "21/21 [==============================] - 1s 35ms/step\n",
            "21/21 [==============================] - 1s 35ms/step\n",
            "21/21 [==============================] - 1s 36ms/step\n",
            "21/21 [==============================] - 1s 37ms/step\n",
            "21/21 [==============================] - 1s 44ms/step\n",
            "21/21 [==============================] - 1s 33ms/step\n",
            "21/21 [==============================] - 1s 37ms/step\n",
            "21/21 [==============================] - 1s 34ms/step\n",
            "21/21 [==============================] - 1s 34ms/step\n",
            "21/21 [==============================] - 1s 37ms/step\n"
          ]
        }
      ],
      "source": [
        "### Predict on validation and test set for plotting\n",
        "\n",
        "\n",
        "### argmax transforms from categorical to numbers\n",
        "tag_pred_val = best_model.predict([text_val]).argmax(-1)\n",
        "tag_pred_test = best_model.predict([text_test]).argmax(-1)\n",
        "\n",
        "baseline_test_metrics = [\n",
        "    metric(m, text_test, tag_categorical_test, labels=allowed_tokens)\n",
        "    for m in baseline_models\n",
        "]\n",
        "model1_test_metrics = [\n",
        "    metric(m, text_test, tag_categorical_test, labels=allowed_tokens)\n",
        "    for m in model1_models\n",
        "]\n",
        "model2_test_metrics = [\n",
        "    metric(m, text_test, tag_categorical_test, labels=allowed_tokens)\n",
        "    for m in model2_models\n",
        "]\n",
        "\n",
        "baseline_test_avg = np.average(baseline_test_metrics)\n",
        "model1_test_avg = np.average(model1_test_metrics)\n",
        "model2_test_avg = np.average(model2_test_metrics)\n",
        "\n",
        "### compute scores (avg+ per cat) per model\n",
        "val_score_per_cat_per_kind = [\n",
        "    [avg]\n",
        "    + [metric(model, text_val, tag_categorical_val, labels=[t]) for t in allowed_tokens]\n",
        "    for model, avg in zip(\n",
        "        best_model_per_kind, (baseline_val_avg, model1_val_avg, model2_val_avg)\n",
        "    )\n",
        "]\n",
        "test_score_per_cat_per_kind = [\n",
        "    [avg]\n",
        "    + [\n",
        "        metric(model, text_test, tag_categorical_test, labels=[t])\n",
        "        for t in allowed_tokens\n",
        "    ]\n",
        "    for model, avg in zip(\n",
        "        best_model_per_kind, (baseline_test_avg, model1_test_avg, model2_test_avg)\n",
        "    )\n",
        "]"
      ]
    },
    {
      "cell_type": "code",
      "execution_count": 95,
      "metadata": {},
      "outputs": [
        {
          "name": "stdout",
          "output_type": "stream",
          "text": [
            "[0.06352656781309904, 0.3912101516558341, 0.40498442367601245, 0.639948006932409, 0.7414492753623187, 0.039337474120082816, 0.0065005417118093175, 0.0, 0.0, 0.0, 0.0, 0.0, 0.0, 0.0, 0.0, 0.0, 0.0, 0.0, 0.0, 0.0, 0.0, 0.0, 0.0, 0.0, 0.0, 0.0, 0.0, 0.0, 0.0, 0.0, 0.0, 0.0, 0.0, 0.0, 0.0, 0.0]\n"
          ]
        }
      ],
      "source": [
        "print(test_score_per_cat_per_kind[0])"
      ]
    },
    {
      "cell_type": "code",
      "execution_count": 56,
      "metadata": {
        "id": "UsJ0ffNFrqUZ"
      },
      "outputs": [],
      "source": [
        "def get_data_distribution(data, sort=True):\n",
        "    unique, counts = np.unique(data, return_counts=True)\n",
        "    counts = dict(zip(unique, counts))\n",
        "    # TODO: li sorto sulla label per far vedere le differenze di frequenza\n",
        "    if sort:\n",
        "        counts = dict(sorted(counts.items(), key=lambda item: item[0], reverse=False))\n",
        "\n",
        "    ### If the tag_token is not allowed then delete it.\n",
        "    for key in unique:\n",
        "        if key not in allowed_tokens:\n",
        "            del counts[key]\n",
        "    labels = [tag_tokenizer.index_word[index] for index in counts.keys()]\n",
        "    result = dict(zip(labels, counts.values()))\n",
        "    return result\n",
        "\n",
        "\n",
        "def plot_data_distribution(data, name):\n",
        "    counts = get_data_distribution(data)\n",
        "    keys = list(counts.keys())\n",
        "    values = list(counts.values())\n",
        "    fig = plt.figure(figsize=(6, 6))\n",
        "    plt.barh(keys, values, color=\"#902e59\")\n",
        "    plt.title(f\"Class Distribution of {name}\")\n",
        "    plt.ylabel(\"Tags\")\n",
        "    plt.xlabel(\"Count\")\n",
        "    plt.tick_params(labelsize=8)\n",
        "    plt.show()"
      ]
    },
    {
      "cell_type": "code",
      "execution_count": null,
      "metadata": {
        "colab": {
          "base_uri": "https://localhost:8080/",
          "height": 560
        },
        "id": "Yoc3ternrqUa",
        "outputId": "340ec6f8-95f2-4120-d5df-8d3707befec1"
      },
      "outputs": [],
      "source": [
        "plot_data_distribution(tag_train, name=\"Train Set\")"
      ]
    },
    {
      "cell_type": "code",
      "execution_count": null,
      "metadata": {
        "colab": {
          "base_uri": "https://localhost:8080/",
          "height": 560
        },
        "id": "iUgz43OTrqUa",
        "outputId": "ce8a1b37-3cba-454e-b8fc-c9c7753d5bbe"
      },
      "outputs": [],
      "source": [
        "plot_data_distribution(tag_val, name=\"Validation Set\")"
      ]
    },
    {
      "cell_type": "code",
      "execution_count": null,
      "metadata": {
        "colab": {
          "base_uri": "https://localhost:8080/",
          "height": 560
        },
        "id": "8yocL-5wrqUa",
        "outputId": "c6bb0255-685b-4ac3-9ad4-652eaa548f64"
      },
      "outputs": [],
      "source": [
        "plot_data_distribution(tag_test, name=\"Test Set\")"
      ]
    },
    {
      "cell_type": "code",
      "execution_count": 41,
      "metadata": {
        "id": "HqyudecjrqUa"
      },
      "outputs": [],
      "source": [
        "def get_cf_report(tag_pred, tag):\n",
        "    cf_report_val = pd.DataFrame(\n",
        "        classification_report(\n",
        "            tag_pred.flatten(),\n",
        "            tag.flatten(),\n",
        "            labels=all_tokens,\n",
        "            target_names=all_classes,\n",
        "            zero_division=0,\n",
        "            output_dict=True,\n",
        "        )\n",
        "    ).transpose()\n",
        "    cf_report_val.reset_index(inplace=True)\n",
        "    cf_report_val.columns = [\"tags\", \"precision\", \"recall\", \"f1-score\", \"support\"]\n",
        "\n",
        "    print(\n",
        "        \"F1 score calculated on validation set:\",\n",
        "        f1_score(\n",
        "            tag_pred.flatten(),\n",
        "            tag.flatten(),\n",
        "            labels=all_tokens,\n",
        "            zero_division=0,\n",
        "            average=\"macro\",\n",
        "        ),\n",
        "        \"\\n\",\n",
        "    )\n",
        "    return cf_report_val"
      ]
    },
    {
      "cell_type": "code",
      "execution_count": null,
      "metadata": {
        "colab": {
          "base_uri": "https://localhost:8080/",
          "height": 1000
        },
        "id": "08mTxSYxrqUb",
        "outputId": "17b87877-8164-4861-a58f-d6922741186f"
      },
      "outputs": [],
      "source": [
        "### Display classification report for Validation Set\n",
        "cf_report_val = get_cf_report(tag_pred_val, tag_val)\n",
        "display(cf_report_val)"
      ]
    },
    {
      "cell_type": "code",
      "execution_count": null,
      "metadata": {
        "colab": {
          "base_uri": "https://localhost:8080/",
          "height": 1000
        },
        "id": "374TvbwArqUb",
        "outputId": "75df3429-efbe-4a6e-b7c2-11de59afd6b4"
      },
      "outputs": [],
      "source": [
        "### Display classification report for Test Set\n",
        "cf_report_test = get_cf_report(tag_pred_test, tag_test)\n",
        "display(cf_report_test)"
      ]
    },
    {
      "cell_type": "code",
      "execution_count": 136,
      "metadata": {},
      "outputs": [],
      "source": [
        "### Plot: class frequency(column) vs f1 score per model (scatter)\n",
        "\n",
        "title_font = {\n",
        "    \"size\": 16,\n",
        "    \"weight\": \"bold\",\n",
        "}\n",
        "x_axis_font = {\n",
        "    \"size\": 10,\n",
        "}\n",
        "y_axis_font = {\n",
        "    \"size\": 11,\n",
        "}\n",
        "legend_title_font = {\"weight\": \"bold\"}\n",
        "\n",
        "\n",
        "def plot_freq_vs_f1(f1s, data, model_names, macro=True):\n",
        "\n",
        "    class_frequencies = np.array(list(data.values()))\n",
        "    class_frequencies = class_frequencies / (np.max(class_frequencies))\n",
        "    class_names = [k.upper() for k in data.keys()]\n",
        "    color_list = [\"orange\", \"red\", \"aqua\"]\n",
        "    marker_list = [\"v\", \"^\", \"s\"]  # s\n",
        "\n",
        "    # plt.rcParams.update({\"text.usetex\": True})\n",
        "    # plt.rcParams.update({\"text.usetex\": True, \"font.family\": \"Helvetica\"})\n",
        "\n",
        "    if macro:\n",
        "        x_labels = [\"Macro\"] + class_names\n",
        "    else:\n",
        "        x_labels = [\"Macro\"] + class_names\n",
        "    plt.title(\"F1 scores of each model\", fontdict=title_font)\n",
        "    plt.xlabel(\"Category\", fontdict=y_axis_font)\n",
        "    plt.ylabel(\"F1 scores\", fontdict=x_axis_font)\n",
        "    plt.xticks(ticks=range(len(f1s[0])), labels=x_labels, rotation=\"vertical\")\n",
        "    markersize = np.array([60, 30, 20])\n",
        "    #  plt.yscale(\"log\")\n",
        "\n",
        "    plt.bar(\n",
        "        x=np.arange(len(class_frequencies)),\n",
        "        height=(class_frequencies),\n",
        "        width=0.5,\n",
        "        color=(0.7, 0.7, 0.7, 0.3),\n",
        "        edgecolor=\"black\",\n",
        "        label=\"Tag support\",\n",
        "        alpha=0.8,\n",
        "    )\n",
        "\n",
        "    for s, color, label, marker, ms in zip(\n",
        "        f1s, color_list, model_names, marker_list, markersize\n",
        "    ):\n",
        "        plt.scatter(x=range(len(s)), y=s, c=color, label=label, marker=marker, s=ms)\n",
        "        plt.plot(range(len(s)), s, color=color, linewidth=0.6, linestyle=\"--\")\n",
        "\n",
        "    plt.legend(\n",
        "        title=\"Models\",\n",
        "        facecolor=(0.9, 0.9, 0.9),\n",
        "        title_fontproperties=legend_title_font,\n",
        "        loc=\"upper right\",\n",
        "        # ncols=3,\n",
        "        # draggable=True, ### does not work on vscode\n",
        "    )"
      ]
    },
    {
      "cell_type": "code",
      "execution_count": 132,
      "metadata": {},
      "outputs": [
        {
          "data": {
            "image/png": "[encoded data removed]",
            "text/plain": [
              "<Figure size 640x480 with 1 Axes>"
            ]
          },
          "metadata": {},
          "output_type": "display_data"
        }
      ],
      "source": [
        "plot_freq_vs_f1(\n",
        "    f1s=val_score_per_cat_per_kind,\n",
        "    data=get_data_distribution(tag_val, sort=False),\n",
        "    model_names=best_model_name_per_kind,\n",
        ")\n",
        "plt.savefig(\"plot_f1_val.png\", dpi=300)"
      ]
    },
    {
      "cell_type": "code",
      "execution_count": 131,
      "metadata": {},
      "outputs": [
        {
          "data": {
            "image/png": "[encoded data removed]",
            "text/plain": [
              "<Figure size 640x480 with 1 Axes>"
            ]
          },
          "metadata": {},
          "output_type": "display_data"
        }
      ],
      "source": [
        "plot_freq_vs_f1(\n",
        "    f1s=test_score_per_cat_per_kind,\n",
        "    data=get_data_distribution(tag_val, sort=False),\n",
        "    model_names=best_model_name_per_kind,\n",
        ")\n",
        "plt.savefig(\"plot_f1_test.png\", dpi=300)"
      ]
    },
    {
      "cell_type": "code",
      "execution_count": 142,
      "metadata": {},
      "outputs": [],
      "source": [
        "test_score_per_cat_per_kind_pruned = [e[10:-10] for e in test_score_per_cat_per_kind]\n",
        "val_score_per_cat_per_kind_pruned = [e[10:-10] for e in val_score_per_cat_per_kind]\n",
        "dist = get_data_distribution(tag_val, sort=False)\n",
        "dist_pruned = dict(list(dist.items())[10:-10])"
      ]
    },
    {
      "cell_type": "code",
      "execution_count": 143,
      "metadata": {},
      "outputs": [
        {
          "data": {
            "image/png": "[encoded data removed]",
            "text/plain": [
              "<Figure size 640x480 with 1 Axes>"
            ]
          },
          "metadata": {},
          "output_type": "display_data"
        }
      ],
      "source": [
        "plot_freq_vs_f1(\n",
        "    f1s=val_score_per_cat_per_kind_pruned,\n",
        "    data=dist_pruned,\n",
        "    model_names=best_model_name_per_kind,\n",
        "    macro=False,\n",
        ")\n",
        "plt.savefig(\"plot_f1_val_pruned.png\", dpi=300)"
      ]
    },
    {
      "cell_type": "code",
      "execution_count": 144,
      "metadata": {},
      "outputs": [
        {
          "data": {
            "image/png": "[encoded data removed]",
            "text/plain": [
              "<Figure size 640x480 with 1 Axes>"
            ]
          },
          "metadata": {},
          "output_type": "display_data"
        }
      ],
      "source": [
        "plot_freq_vs_f1(\n",
        "    f1s=test_score_per_cat_per_kind_pruned,\n",
        "    data=dist_pruned,\n",
        "    model_names=best_model_name_per_kind,\n",
        ")\n",
        "plt.savefig(\"plot_f1_test_pruned.png\", dpi=300)"
      ]
    },
    {
      "cell_type": "code",
      "execution_count": null,
      "metadata": {},
      "outputs": [],
      "source": [
        "def plot_confusion_matrix(y_test, y_pred, name):\n",
        "    cm = confusion_matrix(\n",
        "        y_test.flatten(), y_pred.flatten(), labels=allowed_tokens, normalize=\"true\"\n",
        "    )\n",
        "    np.set_printoptions(suppress=True)\n",
        "    cm_df = pd.DataFrame(cm, index=allowed_classes, columns=allowed_classes)\n",
        "\n",
        "    fig, ax = plt.subplots()\n",
        "    sns.set(rc={\"figure.figsize\": (19, 19)})\n",
        "    sns.heatmap(\n",
        "        cm_df,\n",
        "        annot=True,\n",
        "        fmt=\".2f\",\n",
        "        cmap=\"Blues\",\n",
        "        annot_kws={\"size\": 8},\n",
        "        ax=ax,\n",
        "        cbar_kws={\"shrink\": 0.5},\n",
        "    )\n",
        "    ax.tick_params(labelsize=8)\n",
        "\n",
        "    plt.xlabel(\"Predicted\")\n",
        "    plt.ylabel(\"True\")\n",
        "    plt.title(f\"Confusion Matrix {name}\")\n",
        "    plt.show()"
      ]
    },
    {
      "cell_type": "code",
      "execution_count": null,
      "metadata": {},
      "outputs": [],
      "source": [
        "### Validation set confusion matrix\n",
        "plot_confusion_matrix(tag_val, tag_pred_val, name=\"Test Set\")"
      ]
    },
    {
      "cell_type": "code",
      "execution_count": null,
      "metadata": {},
      "outputs": [],
      "source": [
        "### Test set confusion matrix\n",
        "plot_confusion_matrix(tag_test, tag_pred_test, name=\"Test Set\")"
      ]
    },
    {
      "cell_type": "code",
      "execution_count": null,
      "metadata": {},
      "outputs": [],
      "source": [
        "def get_worst_n_classified_sentences(x_test, y_test, y_pred, n):\n",
        "    scores = {}\n",
        "\n",
        "    ### Get f1 score for each sentence\n",
        "    for i in range(len(y_pred)):\n",
        "        score = f1_score(\n",
        "            y_pred[i],\n",
        "            y_test[i],\n",
        "            labels=allowed_tokens,\n",
        "            zero_division=0,\n",
        "            average=\"macro\",\n",
        "        )\n",
        "        scores[x_test[i]] = score\n",
        "    ### Put the scores into a df\n",
        "    scores_df = pd.DataFrame(scores.items(), columns=[\"Sentence\", \"Score\"])\n",
        "    scores_df.sort_values(by=[\"Score\"], ascending=True, inplace=True)\n",
        "    return scores_df.iloc[:n]"
      ]
    },
    {
      "cell_type": "code",
      "execution_count": null,
      "metadata": {},
      "outputs": [],
      "source": [
        "### Inspect the worst classified sentences in Test Set\n",
        "decoded_x_test = tokenizer.sequences_to_texts(text_test)\n",
        "get_worst_n_classified_sentences(decoded_x_test, tag_test, tag_pred_test, 30)"
      ]
    },
    {
      "cell_type": "markdown",
      "metadata": {
        "id": "Rc02ygSz0I9T"
      },
      "source": [
        "# [Task 7 - 1.0 points] Report\n",
        "\n",
        "Wrap up your experiment in a short report (up to 2 pages)."
      ]
    },
    {
      "cell_type": "markdown",
      "metadata": {
        "id": "yDVRC6he0I9T"
      },
      "source": [
        "### Instructions\n",
        "\n",
        "* Use the NLP course report template.\n",
        "* Summarize each task in the report following the provided template."
      ]
    },
    {
      "cell_type": "markdown",
      "metadata": {
        "id": "V2ZISkw50I9T"
      },
      "source": [
        "### Recommendations\n",
        "\n",
        "The report is not a copy-paste of graphs, tables, and command outputs.\n",
        "\n",
        "* Summarize classification performance in Table format.\n",
        "* **Do not** report command outputs or screenshots.\n",
        "* Report learning curves in Figure format.\n",
        "* The error analysis section should summarize your findings."
      ]
    },
    {
      "cell_type": "markdown",
      "metadata": {
        "id": "aIo631ni0I9T"
      },
      "source": [
        "# Submission\n",
        "\n",
        "* **Submit** your report in PDF format.\n",
        "* **Submit** your python notebook.\n",
        "* Make sure your notebook is **well organized**, with no temporary code, commented sections, tests, etc...\n",
        "* You can upload **model weights** in a cloud repository and report the link in the report."
      ]
    },
    {
      "cell_type": "markdown",
      "metadata": {
        "id": "ltyeaCUr0I9T"
      },
      "source": [
        "# FAQ\n",
        "\n",
        "Please check this frequently asked questions before contacting us"
      ]
    },
    {
      "cell_type": "markdown",
      "metadata": {
        "id": "3UQ-EFWq0I9T"
      },
      "source": [
        "### Trainable Embeddings\n",
        "\n",
        "You are **free** to define a trainable or non-trainable Embedding layer to load the GloVe embeddings."
      ]
    },
    {
      "cell_type": "markdown",
      "metadata": {
        "id": "ruAgGPb_0I9U"
      },
      "source": [
        "### Model architecture\n",
        "\n",
        "You **should not** change the architecture of a model (i.e., its layers).\n",
        "\n",
        "However, you are **free** to play with their hyper-parameters."
      ]
    },
    {
      "cell_type": "markdown",
      "metadata": {
        "id": "9YqTa-dG0I9U"
      },
      "source": [
        "### Neural Libraries\n",
        "\n",
        "You are **free** to use any library of your choice to implement the networks (e.g., Keras, Tensorflow, PyTorch, JAX, etc...)"
      ]
    },
    {
      "cell_type": "markdown",
      "metadata": {
        "id": "MPwxnrta0I9U"
      },
      "source": [
        "### Keras TimeDistributed Dense layer\n",
        "\n",
        "If you are using Keras, we recommend wrapping the final Dense layer with `TimeDistributed`."
      ]
    },
    {
      "cell_type": "markdown",
      "metadata": {
        "id": "r68nIGLH0I9U"
      },
      "source": [
        "### Error Analysis\n",
        "\n",
        "Some topics for discussion include:\n",
        "   * Model performance on most/less frequent classes.\n",
        "   * Precision/Recall curves.\n",
        "   * Confusion matrices.\n",
        "   * Specific misclassified samples."
      ]
    },
    {
      "cell_type": "markdown",
      "metadata": {
        "id": "rVmpO6gX0I9V"
      },
      "source": [
        "### Punctuation\n",
        "\n",
        "**Do not** remove punctuation from documents since it may be helpful to the model.\n",
        "\n",
        "You should **ignore** it during metrics computation.\n",
        "\n",
        "If you are curious, you can run additional experiments to verify the impact of removing punctuation."
      ]
    },
    {
      "cell_type": "markdown",
      "metadata": {
        "id": "It3HUc060I9V"
      },
      "source": [
        "# The End"
      ]
    }
  ],
  "metadata": {
    "accelerator": "GPU",
    "celltoolbar": "Slideshow",
    "colab": {
      "gpuType": "T4",
      "provenance": []
    },
    "kernelspec": {
      "display_name": "Python 3",
      "name": "python3"
    },
    "language_info": {
      "codemirror_mode": {
        "name": "ipython",
        "version": 3
      },
      "file_extension": ".py",
      "mimetype": "text/x-python",
      "name": "python",
      "nbconvert_exporter": "python",
      "pygments_lexer": "ipython3",
      "version": "3.8.10"
    }
  },
  "nbformat": 4,
  "nbformat_minor": 0
}
