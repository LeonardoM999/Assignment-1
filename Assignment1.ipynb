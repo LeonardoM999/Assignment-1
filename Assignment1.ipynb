{
  "cells": [
    {
      "cell_type": "markdown",
      "metadata": {
        "id": "-WeCeITXoxLf"
      },
      "source": [
        "# Assignment 1\n",
        "\n",
        "**Credits**: Federico Ruggeri, Eleonora Mancini, Paolo Torroni\n",
        "\n",
        "**Keywords**: POS tagging, Sequence labelling, RNNs"
      ]
    },
    {
      "cell_type": "code",
      "execution_count": 69,
      "metadata": {
        "id": "dKzlqJPq0I9E"
      },
      "outputs": [],
      "source": [
        "# TODO remove\n",
        "# from google.colab import drive\n",
        "# drive.mount(\"/content/drive\")\n",
        "\n",
        "import pandas as pd\n",
        "import numpy as np\n",
        "from pathlib import Path\n",
        "import shutil\n",
        "import urllib\n",
        "import zipfile\n",
        "\n",
        "import tqdm\n",
        "import random\n",
        "import tensorflow as tf\n",
        "from tensorflow.keras.models import load_model\n",
        "from tensorflow.keras.preprocessing.text import Tokenizer\n",
        "from tensorflow.keras.preprocessing import text\n",
        "from tensorflow.keras.preprocessing import sequence\n",
        "from sklearn.metrics import (\n",
        "    accuracy_score,\n",
        "    f1_score,\n",
        "    confusion_matrix,\n",
        "    classification_report,\n",
        ")\n",
        "import os\n",
        "\n",
        "from tensorflow.keras.models import Model\n",
        "from tensorflow.keras.layers import Bidirectional, LSTM, Dense, TimeDistributed\n",
        "from tensorflow.keras.losses import (\n",
        "    SparseCategoricalCrossentropy,\n",
        "    CategoricalCrossentropy,\n",
        ")\n",
        "from tensorflow.keras.metrics import F1Score\n",
        "from tensorflow.keras.optimizers import Adam\n",
        "from keras.utils import to_categorical\n",
        "from keras.layers import Embedding, Input\n",
        "from tensorflow.keras.callbacks import EarlyStopping, ReduceLROnPlateau\n",
        "import matplotlib.pyplot as plt"
      ]
    },
    {
      "cell_type": "code",
      "execution_count": 2,
      "metadata": {
        "id": "CFPsa10V0I9F"
      },
      "outputs": [],
      "source": [
        "def set_reproducibility(seed):\n",
        "    random.seed(seed)\n",
        "    np.random.seed(seed)\n",
        "    tf.random.set_seed(seed)\n",
        "    os.environ[\"PYTHONHASHSEED\"] = str(seed)\n",
        "    # os.environ[\"TF_DETERMINISTIC_OPS\"] = \"1\" ### can make training slower\n",
        "\n",
        "\n",
        "set_reproducibility(seed=42)"
      ]
    },
    {
      "cell_type": "markdown",
      "metadata": {
        "id": "L_5JrteW0I9G"
      },
      "source": [
        "# [Task 1 - 0.5 points] Corpus"
      ]
    },
    {
      "cell_type": "markdown",
      "metadata": {
        "id": "NZKcsCMU0I9G"
      },
      "source": [
        "### Download the corpus"
      ]
    },
    {
      "cell_type": "code",
      "execution_count": 3,
      "metadata": {
        "id": "Ngly-2b_0I9I"
      },
      "outputs": [],
      "source": [
        "def download_url(download_path: Path, url: str):\n",
        "    urllib.request.urlretrieve(url, filename=download_path)"
      ]
    },
    {
      "cell_type": "code",
      "execution_count": 4,
      "metadata": {
        "id": "3Sbiv7Zr0I9I",
        "outputId": "ad38d8fe-a480-4867-d5d5-20c4b77f20ec",
        "colab": {
          "base_uri": "https://localhost:8080/"
        }
      },
      "outputs": [
        {
          "output_type": "stream",
          "name": "stdout",
          "text": [
            "Downloading dataset... Download complete!\n",
            "Extracting dataset... (it may take a while...) Extraction completed!\n"
          ]
        }
      ],
      "source": [
        "dataset_url = \"https://raw.githubusercontent.com/nltk/nltk_data/gh-pages/packages/corpora/dependency_treebank.zip\"\n",
        "dataset_name = \"dependency_treebank\"\n",
        "\n",
        "# print(f\"Current work directory: {Path.cwd()}\")\n",
        "dataset_folder = Path.cwd().joinpath(\"Datasets\")\n",
        "if not dataset_folder.exists():\n",
        "    dataset_folder.mkdir(parents=True)\n",
        "\n",
        "dataset_zip_path = dataset_folder.joinpath(\"dependency_treebank.zip\")\n",
        "if not dataset_zip_path.exists():\n",
        "    print(\"Downloading dataset... \", end=\"\")\n",
        "    download_url(url=dataset_url, download_path=dataset_zip_path)\n",
        "    print(\"Download complete!\")\n",
        "else:\n",
        "    print(\"Dataset already downloaded!\")\n",
        "dataset_path = dataset_folder.joinpath(dataset_name)\n",
        "\n",
        "if not dataset_path.exists():\n",
        "    print(\"Extracting dataset... (it may take a while...) \", end=\"\")\n",
        "    shutil.unpack_archive(dataset_zip_path, dataset_folder)\n",
        "    print(\"Extraction completed!\")\n",
        "else:\n",
        "    print(\"Dataset already extracted!\")"
      ]
    },
    {
      "cell_type": "markdown",
      "metadata": {
        "id": "05sbc2yW0I9I"
      },
      "source": [
        "#### Encode the corpus into a pandas DataFrame object"
      ]
    },
    {
      "cell_type": "code",
      "execution_count": 5,
      "metadata": {
        "id": "hG4eepnY0I9J"
      },
      "outputs": [],
      "source": [
        "folder = dataset_folder.joinpath(dataset_name)\n",
        "\n",
        "\n",
        "dataframe_rows = []\n",
        "for file_path in sorted(folder.glob(\"*.dp\")):\n",
        "    with file_path.open(mode=\"r\", encoding=\"utf-8\") as text_file:\n",
        "        # Reading the text\n",
        "        text = text_file.read()\n",
        "        # Split sentences (\\n\\n is used for most NLP datasets to split sentences)\n",
        "        sentences = text.split(\"\\n\\n\")\n",
        "\n",
        "        # Observing each sentence\n",
        "        for s in sentences:\n",
        "            sentence = []\n",
        "            tags = []\n",
        "            # sentence = [pierre,vinken,,aksjdajs, ]. tags = [NNP,aab,asd....]\n",
        "            # Taking every line\n",
        "            for line in s.split(\"\\n\"):\n",
        "                columns = line.split(\"\\t\")\n",
        "                # If every line have word, tag, value\n",
        "                if len(columns) > 2:\n",
        "                    # Put words and tags into lists\n",
        "                    sentence.append(columns[0])\n",
        "                    tags.append(columns[1])\n",
        "\n",
        "            # Get the File_ID\n",
        "            file_id = int(file_path.stem.split(\"_\")[1])\n",
        "            dataframe_row = {\"file_id\": file_id, \"sentence\": sentence, \"tag\": tags}\n",
        "            dataframe_rows.append(dataframe_row)\n",
        "# Create the dataframe\n",
        "df = pd.DataFrame(dataframe_rows)\n",
        "\n",
        "FILE_ID, SENTENCE, TAGS = df.columns.values"
      ]
    },
    {
      "cell_type": "code",
      "execution_count": 6,
      "metadata": {
        "id": "X0EppNXK0I9K",
        "outputId": "e782ab64-ef89-4f01-8cda-d07c9fa52986",
        "colab": {
          "base_uri": "https://localhost:8080/",
          "height": 206
        }
      },
      "outputs": [
        {
          "output_type": "execute_result",
          "data": {
            "text/plain": [
              "   file_id                                           sentence  \\\n",
              "0        1  [Pierre, Vinken, ,, 61, years, old, ,, will, j...   \n",
              "1        1  [Mr., Vinken, is, chairman, of, Elsevier, N.V....   \n",
              "2        2  [Rudolph, Agnew, ,, 55, years, old, and, forme...   \n",
              "3        3  [A, form, of, asbestos, once, used, to, make, ...   \n",
              "4        3  [The, asbestos, fiber, ,, crocidolite, ,, is, ...   \n",
              "\n",
              "                                                 tag  \n",
              "0  [NNP, NNP, ,, CD, NNS, JJ, ,, MD, VB, DT, NN, ...  \n",
              "1  [NNP, NNP, VBZ, NN, IN, NNP, NNP, ,, DT, NNP, ...  \n",
              "2  [NNP, NNP, ,, CD, NNS, JJ, CC, JJ, NN, IN, NNP...  \n",
              "3  [DT, NN, IN, NN, RB, VBN, TO, VB, NNP, NN, NNS...  \n",
              "4  [DT, NN, NN, ,, NN, ,, VBZ, RB, JJ, IN, PRP, V...  "
            ],
            "text/html": [
              "\n",
              "  <div id=\"df-4769cf33-9b0a-46cc-849a-bbf38d203bf5\" class=\"colab-df-container\">\n",
              "    <div>\n",
              "<style scoped>\n",
              "    .dataframe tbody tr th:only-of-type {\n",
              "        vertical-align: middle;\n",
              "    }\n",
              "\n",
              "    .dataframe tbody tr th {\n",
              "        vertical-align: top;\n",
              "    }\n",
              "\n",
              "    .dataframe thead th {\n",
              "        text-align: right;\n",
              "    }\n",
              "</style>\n",
              "<table border=\"1\" class=\"dataframe\">\n",
              "  <thead>\n",
              "    <tr style=\"text-align: right;\">\n",
              "      <th></th>\n",
              "      <th>file_id</th>\n",
              "      <th>sentence</th>\n",
              "      <th>tag</th>\n",
              "    </tr>\n",
              "  </thead>\n",
              "  <tbody>\n",
              "    <tr>\n",
              "      <th>0</th>\n",
              "      <td>1</td>\n",
              "      <td>[Pierre, Vinken, ,, 61, years, old, ,, will, j...</td>\n",
              "      <td>[NNP, NNP, ,, CD, NNS, JJ, ,, MD, VB, DT, NN, ...</td>\n",
              "    </tr>\n",
              "    <tr>\n",
              "      <th>1</th>\n",
              "      <td>1</td>\n",
              "      <td>[Mr., Vinken, is, chairman, of, Elsevier, N.V....</td>\n",
              "      <td>[NNP, NNP, VBZ, NN, IN, NNP, NNP, ,, DT, NNP, ...</td>\n",
              "    </tr>\n",
              "    <tr>\n",
              "      <th>2</th>\n",
              "      <td>2</td>\n",
              "      <td>[Rudolph, Agnew, ,, 55, years, old, and, forme...</td>\n",
              "      <td>[NNP, NNP, ,, CD, NNS, JJ, CC, JJ, NN, IN, NNP...</td>\n",
              "    </tr>\n",
              "    <tr>\n",
              "      <th>3</th>\n",
              "      <td>3</td>\n",
              "      <td>[A, form, of, asbestos, once, used, to, make, ...</td>\n",
              "      <td>[DT, NN, IN, NN, RB, VBN, TO, VB, NNP, NN, NNS...</td>\n",
              "    </tr>\n",
              "    <tr>\n",
              "      <th>4</th>\n",
              "      <td>3</td>\n",
              "      <td>[The, asbestos, fiber, ,, crocidolite, ,, is, ...</td>\n",
              "      <td>[DT, NN, NN, ,, NN, ,, VBZ, RB, JJ, IN, PRP, V...</td>\n",
              "    </tr>\n",
              "  </tbody>\n",
              "</table>\n",
              "</div>\n",
              "    <div class=\"colab-df-buttons\">\n",
              "\n",
              "  <div class=\"colab-df-container\">\n",
              "    <button class=\"colab-df-convert\" onclick=\"convertToInteractive('df-4769cf33-9b0a-46cc-849a-bbf38d203bf5')\"\n",
              "            title=\"Convert this dataframe to an interactive table.\"\n",
              "            style=\"display:none;\">\n",
              "\n",
              "  <svg xmlns=\"http://www.w3.org/2000/svg\" height=\"24px\" viewBox=\"0 -960 960 960\">\n",
              "    <path d=\"M120-120v-720h720v720H120Zm60-500h600v-160H180v160Zm220 220h160v-160H400v160Zm0 220h160v-160H400v160ZM180-400h160v-160H180v160Zm440 0h160v-160H620v160ZM180-180h160v-160H180v160Zm440 0h160v-160H620v160Z\"/>\n",
              "  </svg>\n",
              "    </button>\n",
              "\n",
              "  <style>\n",
              "    .colab-df-container {\n",
              "      display:flex;\n",
              "      gap: 12px;\n",
              "    }\n",
              "\n",
              "    .colab-df-convert {\n",
              "      background-color: #E8F0FE;\n",
              "      border: none;\n",
              "      border-radius: 50%;\n",
              "      cursor: pointer;\n",
              "      display: none;\n",
              "      fill: #1967D2;\n",
              "      height: 32px;\n",
              "      padding: 0 0 0 0;\n",
              "      width: 32px;\n",
              "    }\n",
              "\n",
              "    .colab-df-convert:hover {\n",
              "      background-color: #E2EBFA;\n",
              "      box-shadow: 0px 1px 2px rgba(60, 64, 67, 0.3), 0px 1px 3px 1px rgba(60, 64, 67, 0.15);\n",
              "      fill: #174EA6;\n",
              "    }\n",
              "\n",
              "    .colab-df-buttons div {\n",
              "      margin-bottom: 4px;\n",
              "    }\n",
              "\n",
              "    [theme=dark] .colab-df-convert {\n",
              "      background-color: #3B4455;\n",
              "      fill: #D2E3FC;\n",
              "    }\n",
              "\n",
              "    [theme=dark] .colab-df-convert:hover {\n",
              "      background-color: #434B5C;\n",
              "      box-shadow: 0px 1px 3px 1px rgba(0, 0, 0, 0.15);\n",
              "      filter: drop-shadow(0px 1px 2px rgba(0, 0, 0, 0.3));\n",
              "      fill: #FFFFFF;\n",
              "    }\n",
              "  </style>\n",
              "\n",
              "    <script>\n",
              "      const buttonEl =\n",
              "        document.querySelector('#df-4769cf33-9b0a-46cc-849a-bbf38d203bf5 button.colab-df-convert');\n",
              "      buttonEl.style.display =\n",
              "        google.colab.kernel.accessAllowed ? 'block' : 'none';\n",
              "\n",
              "      async function convertToInteractive(key) {\n",
              "        const element = document.querySelector('#df-4769cf33-9b0a-46cc-849a-bbf38d203bf5');\n",
              "        const dataTable =\n",
              "          await google.colab.kernel.invokeFunction('convertToInteractive',\n",
              "                                                    [key], {});\n",
              "        if (!dataTable) return;\n",
              "\n",
              "        const docLinkHtml = 'Like what you see? Visit the ' +\n",
              "          '<a target=\"_blank\" href=https://colab.research.google.com/notebooks/data_table.ipynb>data table notebook</a>'\n",
              "          + ' to learn more about interactive tables.';\n",
              "        element.innerHTML = '';\n",
              "        dataTable['output_type'] = 'display_data';\n",
              "        await google.colab.output.renderOutput(dataTable, element);\n",
              "        const docLink = document.createElement('div');\n",
              "        docLink.innerHTML = docLinkHtml;\n",
              "        element.appendChild(docLink);\n",
              "      }\n",
              "    </script>\n",
              "  </div>\n",
              "\n",
              "\n",
              "<div id=\"df-5d195847-3905-405f-99a7-3dce74a16497\">\n",
              "  <button class=\"colab-df-quickchart\" onclick=\"quickchart('df-5d195847-3905-405f-99a7-3dce74a16497')\"\n",
              "            title=\"Suggest charts\"\n",
              "            style=\"display:none;\">\n",
              "\n",
              "<svg xmlns=\"http://www.w3.org/2000/svg\" height=\"24px\"viewBox=\"0 0 24 24\"\n",
              "     width=\"24px\">\n",
              "    <g>\n",
              "        <path d=\"M19 3H5c-1.1 0-2 .9-2 2v14c0 1.1.9 2 2 2h14c1.1 0 2-.9 2-2V5c0-1.1-.9-2-2-2zM9 17H7v-7h2v7zm4 0h-2V7h2v10zm4 0h-2v-4h2v4z\"/>\n",
              "    </g>\n",
              "</svg>\n",
              "  </button>\n",
              "\n",
              "<style>\n",
              "  .colab-df-quickchart {\n",
              "      --bg-color: #E8F0FE;\n",
              "      --fill-color: #1967D2;\n",
              "      --hover-bg-color: #E2EBFA;\n",
              "      --hover-fill-color: #174EA6;\n",
              "      --disabled-fill-color: #AAA;\n",
              "      --disabled-bg-color: #DDD;\n",
              "  }\n",
              "\n",
              "  [theme=dark] .colab-df-quickchart {\n",
              "      --bg-color: #3B4455;\n",
              "      --fill-color: #D2E3FC;\n",
              "      --hover-bg-color: #434B5C;\n",
              "      --hover-fill-color: #FFFFFF;\n",
              "      --disabled-bg-color: #3B4455;\n",
              "      --disabled-fill-color: #666;\n",
              "  }\n",
              "\n",
              "  .colab-df-quickchart {\n",
              "    background-color: var(--bg-color);\n",
              "    border: none;\n",
              "    border-radius: 50%;\n",
              "    cursor: pointer;\n",
              "    display: none;\n",
              "    fill: var(--fill-color);\n",
              "    height: 32px;\n",
              "    padding: 0;\n",
              "    width: 32px;\n",
              "  }\n",
              "\n",
              "  .colab-df-quickchart:hover {\n",
              "    background-color: var(--hover-bg-color);\n",
              "    box-shadow: 0 1px 2px rgba(60, 64, 67, 0.3), 0 1px 3px 1px rgba(60, 64, 67, 0.15);\n",
              "    fill: var(--button-hover-fill-color);\n",
              "  }\n",
              "\n",
              "  .colab-df-quickchart-complete:disabled,\n",
              "  .colab-df-quickchart-complete:disabled:hover {\n",
              "    background-color: var(--disabled-bg-color);\n",
              "    fill: var(--disabled-fill-color);\n",
              "    box-shadow: none;\n",
              "  }\n",
              "\n",
              "  .colab-df-spinner {\n",
              "    border: 2px solid var(--fill-color);\n",
              "    border-color: transparent;\n",
              "    border-bottom-color: var(--fill-color);\n",
              "    animation:\n",
              "      spin 1s steps(1) infinite;\n",
              "  }\n",
              "\n",
              "  @keyframes spin {\n",
              "    0% {\n",
              "      border-color: transparent;\n",
              "      border-bottom-color: var(--fill-color);\n",
              "      border-left-color: var(--fill-color);\n",
              "    }\n",
              "    20% {\n",
              "      border-color: transparent;\n",
              "      border-left-color: var(--fill-color);\n",
              "      border-top-color: var(--fill-color);\n",
              "    }\n",
              "    30% {\n",
              "      border-color: transparent;\n",
              "      border-left-color: var(--fill-color);\n",
              "      border-top-color: var(--fill-color);\n",
              "      border-right-color: var(--fill-color);\n",
              "    }\n",
              "    40% {\n",
              "      border-color: transparent;\n",
              "      border-right-color: var(--fill-color);\n",
              "      border-top-color: var(--fill-color);\n",
              "    }\n",
              "    60% {\n",
              "      border-color: transparent;\n",
              "      border-right-color: var(--fill-color);\n",
              "    }\n",
              "    80% {\n",
              "      border-color: transparent;\n",
              "      border-right-color: var(--fill-color);\n",
              "      border-bottom-color: var(--fill-color);\n",
              "    }\n",
              "    90% {\n",
              "      border-color: transparent;\n",
              "      border-bottom-color: var(--fill-color);\n",
              "    }\n",
              "  }\n",
              "</style>\n",
              "\n",
              "  <script>\n",
              "    async function quickchart(key) {\n",
              "      const quickchartButtonEl =\n",
              "        document.querySelector('#' + key + ' button');\n",
              "      quickchartButtonEl.disabled = true;  // To prevent multiple clicks.\n",
              "      quickchartButtonEl.classList.add('colab-df-spinner');\n",
              "      try {\n",
              "        const charts = await google.colab.kernel.invokeFunction(\n",
              "            'suggestCharts', [key], {});\n",
              "      } catch (error) {\n",
              "        console.error('Error during call to suggestCharts:', error);\n",
              "      }\n",
              "      quickchartButtonEl.classList.remove('colab-df-spinner');\n",
              "      quickchartButtonEl.classList.add('colab-df-quickchart-complete');\n",
              "    }\n",
              "    (() => {\n",
              "      let quickchartButtonEl =\n",
              "        document.querySelector('#df-5d195847-3905-405f-99a7-3dce74a16497 button');\n",
              "      quickchartButtonEl.style.display =\n",
              "        google.colab.kernel.accessAllowed ? 'block' : 'none';\n",
              "    })();\n",
              "  </script>\n",
              "</div>\n",
              "    </div>\n",
              "  </div>\n"
            ],
            "application/vnd.google.colaboratory.intrinsic+json": {
              "type": "dataframe",
              "variable_name": "df",
              "summary": "{\n  \"name\": \"df\",\n  \"rows\": 3914,\n  \"fields\": [\n    {\n      \"column\": \"file_id\",\n      \"properties\": {\n        \"dtype\": \"number\",\n        \"std\": 49,\n        \"min\": 1,\n        \"max\": 199,\n        \"num_unique_values\": 199,\n        \"samples\": [\n          83,\n          16,\n          112\n        ],\n        \"semantic_type\": \"\",\n        \"description\": \"\"\n      }\n    },\n    {\n      \"column\": \"sentence\",\n      \"properties\": {\n        \"dtype\": \"object\",\n        \"semantic_type\": \"\",\n        \"description\": \"\"\n      }\n    },\n    {\n      \"column\": \"tag\",\n      \"properties\": {\n        \"dtype\": \"object\",\n        \"semantic_type\": \"\",\n        \"description\": \"\"\n      }\n    }\n  ]\n}"
            }
          },
          "metadata": {},
          "execution_count": 6
        }
      ],
      "source": [
        "df.head()"
      ]
    },
    {
      "cell_type": "markdown",
      "metadata": {
        "id": "L2cFd_wR0I9K"
      },
      "source": [
        "#### Splitting Data Train-Test-Validation"
      ]
    },
    {
      "cell_type": "code",
      "execution_count": 7,
      "metadata": {
        "id": "J0spDKZN0I9L"
      },
      "outputs": [],
      "source": [
        "### file indices for train/validation/test\n",
        "train_ids = np.arange(1, 101)\n",
        "val_ids = np.arange(101, 151)\n",
        "test_ids = np.arange(151, 200)\n",
        "\n",
        "df_train = df[df[FILE_ID].isin(train_ids)]\n",
        "df_val = df[df[FILE_ID].isin(val_ids)]\n",
        "df_test = df[df[FILE_ID].isin(test_ids)]"
      ]
    },
    {
      "cell_type": "markdown",
      "metadata": {
        "id": "J38RHhnT0I9L"
      },
      "source": [
        "# [Task 2 - 0.5 points] Text encoding\n",
        "\n",
        "To train a neural POS tagger, you first need to encode text into numerical format."
      ]
    },
    {
      "cell_type": "markdown",
      "metadata": {
        "id": "zm45krA-0I9L"
      },
      "source": [
        "### Instructions\n",
        "\n",
        "* Embed words using **GloVe embeddings**.\n",
        "* You are **free** to pick any embedding dimension.\n",
        "* [Optional] You are free to experiment with text pre-processing: **make sure you do not delete any token!**"
      ]
    },
    {
      "cell_type": "code",
      "execution_count": 8,
      "metadata": {
        "id": "-0uWNkvL0I9L"
      },
      "outputs": [],
      "source": [
        "### download Glove\n",
        "\n",
        "embedding_dim = 100\n",
        "glove_file = f\"glove.6B.{embedding_dim}d.txt\"\n",
        "glove_zip = \"glove.6B.zip\"\n",
        "glove_path = Path.cwd().joinpath(glove_file)\n",
        "if not glove_path.exists():\n",
        "    urllib.request.urlretrieve(\n",
        "        \"http://nlp.stanford.edu/data/glove.6B.zip\", Path.cwd().joinpath(glove_zip)\n",
        "    )\n",
        "    with zipfile.ZipFile(glove_zip, \"r\") as zip_ref:\n",
        "        zip_ref.extractall()"
      ]
    },
    {
      "cell_type": "code",
      "execution_count": 9,
      "metadata": {
        "id": "GbJxUUSy0I9L",
        "outputId": "bb53bb52-c174-48bf-878c-61b18a35cb63",
        "colab": {
          "base_uri": "https://localhost:8080/"
        }
      },
      "outputs": [
        {
          "output_type": "stream",
          "name": "stdout",
          "text": [
            "Found 400000 word vectors.\n"
          ]
        }
      ],
      "source": [
        "embeddings_index = {}\n",
        "with open(glove_file) as f:\n",
        "    for line in f:\n",
        "        word, coefs = line.split(maxsplit=1)\n",
        "        coefs = np.fromstring(coefs, \"f\", sep=\" \")\n",
        "        embeddings_index[word] = coefs\n",
        "\n",
        "print(\"Found %s word vectors.\" % len(embeddings_index))"
      ]
    },
    {
      "cell_type": "code",
      "execution_count": 10,
      "metadata": {
        "id": "LL-AIxiA0I9L"
      },
      "outputs": [],
      "source": [
        "# max_sequence_length = int(np.quantile([len(seq) for seq in df_train[\"sentence\"]], 0.99))\n",
        "max_sequence_length = max([len(seq) for seq in df_train[SENTENCE]])\n",
        "\n",
        "# TODO remove\n",
        "hparams = {\n",
        "    \"batch_size\": 128,\n",
        "    \"embedding_dim\": 100,\n",
        "    \"embedding_trainable\": False,\n",
        "    \"learning_rate\": 0.005,\n",
        "    \"max_sequence_length\": max_sequence_length,\n",
        "    \"vocab_size\": 7405,\n",
        "    \"tag_size\": 46,\n",
        "}"
      ]
    },
    {
      "cell_type": "code",
      "execution_count": 11,
      "metadata": {
        "id": "z7RKxZ0G0I9M"
      },
      "outputs": [],
      "source": [
        "### Preprocessing: lowercase\n",
        "def make_lower(df):\n",
        "    df[SENTENCE].apply(lambda l: [i.lower() for i in l])\n",
        "\n",
        "\n",
        "make_lower(df_train)\n",
        "make_lower(df_val)\n",
        "# TODO va bene fare lowercase sul test set? vediamo se va senza\n",
        "# make_lower(df_test)"
      ]
    },
    {
      "cell_type": "code",
      "execution_count": 12,
      "metadata": {
        "id": "g9-1Yp4p0I9M"
      },
      "outputs": [],
      "source": [
        "### Use Keras Tokenizer to create Vocabulary\n",
        "\n",
        "# TODO ci hanno consigliato codice deprecato (tokenizer) io vorrei usare TextVectorization ma fa schifo\n",
        "\n",
        "tokenizer = Tokenizer(oov_token=\"OOV\")\n",
        "tokenizer.fit_on_texts(df_train[\"sentence\"])\n",
        "\n",
        "tag_tokenizer = Tokenizer()\n",
        "tag_tokenizer.fit_on_texts(df_train[\"tag\"])\n",
        "\n",
        "\n",
        "### Turn text into into padded sequences.\n",
        "def prep_text(texts, tokenizer, max_sequence_length):\n",
        "    text_sequences = tokenizer.texts_to_sequences(texts)\n",
        "    return sequence.pad_sequences(\n",
        "        text_sequences, maxlen=max_sequence_length, padding=\"post\"\n",
        "    )\n",
        "\n",
        "\n",
        "text_train = prep_text(df_train[\"sentence\"], tokenizer, max_sequence_length)\n",
        "text_test = prep_text(df_test[\"sentence\"], tokenizer, max_sequence_length)\n",
        "text_val = prep_text(df_val[\"sentence\"], tokenizer, max_sequence_length)\n",
        "\n",
        "tag_train = prep_text(df_train[\"tag\"], tag_tokenizer, max_sequence_length)\n",
        "tag_test = prep_text(df_test[\"tag\"], tag_tokenizer, max_sequence_length)\n",
        "tag_val = prep_text(df_val[\"tag\"], tag_tokenizer, max_sequence_length)"
      ]
    },
    {
      "cell_type": "code",
      "execution_count": 13,
      "metadata": {
        "id": "mNUsZd2M0I9N",
        "outputId": "4823bf3b-8d6e-4499-e4ee-66a4a70ce743",
        "colab": {
          "base_uri": "https://localhost:8080/"
        }
      },
      "outputs": [
        {
          "output_type": "execute_result",
          "data": {
            "text/plain": [
              "array([ 2,  2,  7, 11,  5,  6,  7, 20, 12,  4,  1,  3,  4,  6,  1,  2, 11,\n",
              "        8,  0,  0,  0,  0,  0,  0,  0,  0,  0,  0,  0,  0,  0,  0,  0,  0,\n",
              "        0,  0,  0,  0,  0,  0,  0,  0,  0,  0,  0,  0,  0,  0,  0,  0,  0,\n",
              "        0,  0,  0,  0,  0,  0,  0,  0,  0,  0,  0,  0,  0,  0,  0,  0,  0,\n",
              "        0,  0,  0,  0,  0,  0,  0,  0,  0,  0,  0,  0,  0,  0,  0,  0,  0,\n",
              "        0,  0,  0,  0,  0,  0,  0,  0,  0,  0,  0,  0,  0,  0,  0,  0,  0,\n",
              "        0,  0,  0,  0,  0,  0,  0,  0,  0,  0,  0,  0,  0,  0,  0,  0,  0,\n",
              "        0,  0,  0,  0,  0,  0,  0,  0,  0,  0,  0,  0,  0,  0,  0,  0,  0,\n",
              "        0,  0,  0,  0,  0,  0,  0,  0,  0,  0,  0,  0,  0,  0,  0,  0,  0,\n",
              "        0,  0,  0,  0,  0,  0,  0,  0,  0,  0,  0,  0,  0,  0,  0,  0,  0,\n",
              "        0,  0,  0,  0,  0,  0,  0,  0,  0,  0,  0,  0,  0,  0,  0,  0,  0,\n",
              "        0,  0,  0,  0,  0,  0,  0,  0,  0,  0,  0,  0,  0,  0,  0,  0,  0,\n",
              "        0,  0,  0,  0,  0,  0,  0,  0,  0,  0,  0,  0,  0,  0,  0,  0,  0,\n",
              "        0,  0,  0,  0,  0,  0,  0,  0,  0,  0,  0,  0,  0,  0,  0,  0,  0,\n",
              "        0,  0,  0,  0,  0,  0,  0,  0,  0,  0,  0], dtype=int32)"
            ]
          },
          "metadata": {},
          "execution_count": 13
        }
      ],
      "source": [
        "tag_train.shape\n",
        "tag_train[0]"
      ]
    },
    {
      "cell_type": "code",
      "execution_count": 14,
      "metadata": {
        "id": "5jivo8rj0I9N"
      },
      "outputs": [],
      "source": [
        "### Encode the tags in 1hot encoding\n",
        "\n",
        "num_classes = len(tag_tokenizer.word_index) + 1\n",
        "tag_categorical_train = to_categorical(tag_train, num_classes)\n",
        "tag_categorical_test = to_categorical(tag_test, num_classes)\n",
        "tag_categorical_val = to_categorical(tag_val, num_classes)"
      ]
    },
    {
      "cell_type": "code",
      "execution_count": 15,
      "metadata": {
        "id": "x8emt0iR0I9N",
        "outputId": "70c427f8-1da6-4ed4-e054-06c3b54d8296",
        "colab": {
          "base_uri": "https://localhost:8080/"
        }
      },
      "outputs": [
        {
          "output_type": "stream",
          "name": "stdout",
          "text": [
            "Tags: ['nn', 'nnp', 'in', 'dt', 'nns', 'jj', ',', '.', 'vbd', 'rb', 'cd', 'vb', 'cc', 'vbz', 'vbn', 'to', 'prp', 'vbg', 'vbp', 'md', 'prp$', '``', 'pos', \"''\", '$', ':', 'wdt', 'jjr', 'wp', 'rp', 'nnps', 'jjs', 'wrb', 'rbr', '-rrb-', '-lrb-', 'ex', 'rbs', 'ls', 'pdt', 'wp$', 'fw', 'uh', 'sym', '#']\n",
            "All tag-tokens: [1, 2, 3, 4, 5, 6, 7, 8, 9, 10, 11, 12, 13, 14, 15, 16, 17, 18, 19, 20, 21, 22, 23, 24, 25, 26, 27, 28, 29, 30, 31, 32, 33, 34, 35, 36, 37, 38, 39, 40, 41, 42, 43, 44, 45]\n",
            "\n",
            "Punctuations: [',', '.', ':', '``', \"''\", '$', '#', 'sym', '-rrb-', '-lrb-']\n",
            "Tokenized punctuations [7, 8, 26, 22, 24, 25, 45, 44, 35, 36]\n",
            "\n",
            "Tags without punctuation: ['nn', 'nnp', 'in', 'dt', 'nns', 'jj', 'vbd', 'rb', 'cd', 'vb', 'cc', 'vbz', 'vbn', 'to', 'prp', 'vbg', 'vbp', 'md', 'prp$', 'pos', 'wdt', 'jjr', 'wp', 'rp', 'nnps', 'jjs', 'wrb', 'rbr', 'ex', 'rbs', 'ls', 'pdt', 'wp$', 'fw', 'uh']\n",
            "Tokens will be used in evaluations: [1, 2, 3, 4, 5, 6, 9, 10, 11, 12, 13, 14, 15, 16, 17, 18, 19, 20, 21, 23, 27, 28, 29, 30, 31, 32, 33, 34, 37, 38, 39, 40, 41, 42, 43]\n"
          ]
        }
      ],
      "source": [
        "all_classes = list(tag_tokenizer.word_index.keys())\n",
        "all_tokens = list(tag_tokenizer.word_index.values())\n",
        "punct_classes = [\",\", \".\", \":\", \"``\", \"''\", \"$\", \"#\", \"sym\", \"-rrb-\", \"-lrb-\"]\n",
        "punct_tokens = [tag_tokenizer.word_index[p] for p in punct_classes]\n",
        "allowed_classes = [\n",
        "    word for word in tag_tokenizer.index_word.values() if word not in punct_classes\n",
        "]\n",
        "allowed_tokens = [token for token in all_tokens if token not in punct_tokens]\n",
        "\n",
        "print(f\"Tags: {all_classes}\")\n",
        "print(f\"All tag-tokens: {all_tokens}\\n\")\n",
        "print(f\"Punctuations: {punct_classes}\")\n",
        "print(f\"Tokenized punctuations {punct_tokens}\\n\")\n",
        "print(f\"Tags without punctuation: {allowed_classes}\")\n",
        "print(f\"Tokens will be used in evaluations: {allowed_tokens}\")"
      ]
    },
    {
      "cell_type": "code",
      "execution_count": 16,
      "metadata": {
        "id": "1xDsxfWt0I9N",
        "outputId": "569a926f-74c7-4b08-d266-0f6d36f084c4",
        "colab": {
          "base_uri": "https://localhost:8080/"
        }
      },
      "outputs": [
        {
          "output_type": "stream",
          "name": "stdout",
          "text": [
            "Found 400000 word vectors.\n"
          ]
        }
      ],
      "source": [
        "### Create the embedding matrix\n",
        "embeddings_index = {}\n",
        "with open(glove_file) as f:\n",
        "    for line in f:\n",
        "        word, coefs = line.split(maxsplit=1)\n",
        "        coefs = np.fromstring(coefs, \"f\", sep=\" \")\n",
        "        embeddings_index[word] = coefs\n",
        "\n",
        "print(f\"Found {len(embeddings_index)} word vectors.\")\n",
        "\n",
        "embedding_matrix = np.zeros((len(tokenizer.word_index) + 1, embedding_dim))\n",
        "num_words_in_embedding = 0\n",
        "for word, i in tokenizer.word_index.items():\n",
        "    embedding_vector = embeddings_index.get(word)\n",
        "    if embedding_vector is not None:\n",
        "        num_words_in_embedding += 1\n",
        "        embedding_matrix[i] = embedding_vector"
      ]
    },
    {
      "cell_type": "code",
      "execution_count": 17,
      "metadata": {
        "id": "PTUDtH800I9O",
        "outputId": "6704a562-0082-4411-8bbe-5eefaee0ebc7",
        "colab": {
          "base_uri": "https://localhost:8080/"
        }
      },
      "outputs": [
        {
          "output_type": "stream",
          "name": "stdout",
          "text": [
            "Token: the \n",
            "Vector: [-0.10767     0.11053     0.59811997 -0.54360998  0.67395997  0.10663\n",
            "  0.038867    0.35481     0.06351    -0.094189    0.15786    -0.81664997\n",
            "  0.14172     0.21939     0.58504999 -0.52157998  0.22782999 -0.16642\n",
            " -0.68228     0.35870001  0.42568001  0.19021     0.91962999  0.57555002\n",
            "  0.46184999  0.42363    -0.095399   -0.42749    -0.16566999 -0.056842\n",
            " -0.29595     0.26036999 -0.26605999 -0.070404   -0.27662     0.15820999\n",
            "  0.69825     0.43081     0.27952    -0.45436999 -0.33801001 -0.58183998\n",
            "  0.22363999 -0.57779998 -0.26862001 -0.20424999  0.56393999 -0.58524001\n",
            " -0.14365    -0.64218003  0.0054697  -0.35247999  0.16162001  1.1796\n",
            " -0.47674    -2.75530005 -0.1321     -0.047729    1.06550002  1.10339999\n",
            " -0.2208      0.18669     0.13177     0.15117     0.71310002 -0.35214999\n",
            "  0.91347998  0.61782998  0.70991999  0.23954999 -0.14571001 -0.37858999\n",
            " -0.045959   -0.47367999  0.2385      0.20536    -0.18996     0.32506999\n",
            " -1.11119998 -0.36341     0.98679    -0.084776   -0.54008001  0.11726\n",
            " -1.0194     -0.24424     0.12771     0.013884    0.080374   -0.35414001\n",
            "  0.34951001 -0.72259998  0.37549001  0.44409999 -0.99058998  0.61214\n",
            " -0.35111001 -0.83155     0.45293     0.082577  ]\n"
          ]
        }
      ],
      "source": [
        "### Inspect tokens' embedding vectors\n",
        "idx_token = 2\n",
        "print(\n",
        "    f\"Token: {list(tokenizer.word_index.keys())[idx_token]} \\nVector: {embedding_matrix[idx_token]}\"\n",
        ")"
      ]
    },
    {
      "cell_type": "code",
      "execution_count": 18,
      "metadata": {
        "id": "7wElwxfb0I9O"
      },
      "outputs": [],
      "source": [
        "# TODO fare un po' di inspection."
      ]
    },
    {
      "cell_type": "code",
      "execution_count": 19,
      "metadata": {
        "id": "x58DJc2F0I9O"
      },
      "outputs": [],
      "source": [
        "# embedding_layer = Embedding(\n",
        "#    num_tokens,\n",
        "#    embedding_dim,\n",
        "#    trainable=False,\n",
        "# )\n",
        "# embedding_layer.build((1,))\n",
        "# embedding_layer.set_weights([embedding_matrix])"
      ]
    },
    {
      "cell_type": "markdown",
      "metadata": {
        "id": "B7wJf8ew0I9P"
      },
      "source": [
        "# [Task 3 - 1.0 points] Model definition\n",
        "\n",
        "You are now tasked to define your neural POS tagger."
      ]
    },
    {
      "cell_type": "markdown",
      "metadata": {
        "id": "5xVpNdEZ0I9P"
      },
      "source": [
        "### Instructions\n",
        "\n",
        "* **Baseline**: implement a Bidirectional LSTM with a Dense layer on top.\n",
        "* You are **free** to experiment with hyper-parameters to define the baseline model.\n",
        "\n",
        "* **Model 1**: add an additional LSTM layer to the Baseline model.\n",
        "* **Model 2**: add an additional Dense layer to the Baseline model.\n",
        "\n",
        "* **Do not mix Model 1 and Model 2**. Each model has its own instructions.\n",
        "\n",
        "**Note**: if a document contains many tokens, you are **free** to split them into chunks or sentences to define your mini-batches."
      ]
    },
    {
      "cell_type": "code",
      "execution_count": 124,
      "metadata": {
        "id": "jfs_L1hE0I9P"
      },
      "outputs": [],
      "source": [
        "def get_model(lstm_units=64, add_lstm=False, add_dense=False):\n",
        "    number_of_words = len(tokenizer.word_index.keys())\n",
        "    number_of_tags = len(tag_tokenizer.word_index.keys())\n",
        "\n",
        "    input = Input(shape=(max_sequence_length,))\n",
        "\n",
        "    embedding_layer = Embedding(\n",
        "        input_dim=number_of_words + 1,\n",
        "        output_dim=embedding_dim,\n",
        "        input_length=max_sequence_length,\n",
        "        weights=[embedding_matrix],\n",
        "        trainable=False,\n",
        "    )(input)\n",
        "    bi_lstm = Bidirectional(LSTM(lstm_units, return_sequences=True))(embedding_layer)\n",
        "    bi_lstm2 = (\n",
        "        Bidirectional(LSTM(lstm_units, return_sequences=True))(bi_lstm)\n",
        "        if add_lstm\n",
        "        else bi_lstm\n",
        "    )\n",
        "    dense2 = (\n",
        "        TimeDistributed(Dense(number_of_tags + 1, activation=\"relu\"))(bi_lstm2)\n",
        "        if add_dense\n",
        "        else bi_lstm\n",
        "    )\n",
        "    dense_output = TimeDistributed(Dense(number_of_tags + 1, activation=\"softmax\"))(\n",
        "        dense2\n",
        "    )\n",
        "    model = Model(input, dense_output)\n",
        "\n",
        "    ### No logits: we have 1 hot encoding as labels\n",
        "    model.compile(loss=CategoricalCrossentropy(from_logits=False), optimizer=Adam(5e-3), metrics=[\"accuracy\"])\n",
        "    model.summary()\n",
        "    return model"
      ]
    },
    {
      "cell_type": "code",
      "execution_count": 101,
      "metadata": {
        "id": "VufgwYQ10I9P"
      },
      "outputs": [],
      "source": [
        "early_stopping = EarlyStopping(\n",
        "    monitor=\"val_accuracy\", mode=\"max\", patience=20, restore_best_weights=True, min_delta=0.001,\n",
        ")\n",
        "reduce_lr = ReduceLROnPlateau(\n",
        "    monitor=\"val_accuracy\", mode='max', factor=0.1, patience=7, cooldown=1, min_lr=1e-5, min_delta=0.001,\n",
        ")"
      ]
    },
    {
      "cell_type": "markdown",
      "metadata": {
        "id": "gR1ilMZ-0I9P"
      },
      "source": [
        "# [Task 4 - 1.0 points] Metrics\n",
        "\n",
        "Before training the models, you are tasked to define the evaluation metrics for comparison."
      ]
    },
    {
      "cell_type": "markdown",
      "metadata": {
        "id": "rzd_nWCQ0I9Q"
      },
      "source": [
        "### Instructions\n",
        "\n",
        "* Evaluate your models using macro F1-score, compute over **all** tokens.\n",
        "* **Concatenate** all tokens in a data split to compute the F1-score. (**Hint**: accumulate FP, TP, FN, TN iteratively)\n",
        "* **Do not consider punctuation and symbol classes** $\\rightarrow$ [What is punctuation?](https://en.wikipedia.org/wiki/English_punctuation)"
      ]
    },
    {
      "cell_type": "markdown",
      "metadata": {
        "id": "xwjdeYRs0I9Q"
      },
      "source": [
        "**Note**: What about OOV tokens?\n",
        "   * All the tokens in the **training** set that are not in GloVe are **not** considered as OOV\n",
        "   * For the remaining tokens (i.e., OOV in the validation and test sets), you have to assign them a **static** embedding.\n",
        "   * You are **free** to define the static embedding using any strategy (e.g., random, neighbourhood, etc...)"
      ]
    },
    {
      "cell_type": "code",
      "execution_count": 56,
      "metadata": {
        "id": "BvvX1aui0I9Q"
      },
      "outputs": [],
      "source": [
        "def metric(model):\n",
        "    # TODO what is a static embedding?\n",
        "\n",
        "    # TODO controllare che questo vada bene: fare la prova accumulando manualmente TP FP TN FN\n",
        "\n",
        "    y_pred = model.predict([text_val]).argmax(-1).flatten()\n",
        "    y_test_flatten = tag_categorical_val.argmax(-1).flatten()\n",
        "    score = f1_score(\n",
        "        y_test_flatten,\n",
        "        y_pred,\n",
        "        labels=allowed_tokens,\n",
        "        average=\"macro\",\n",
        "        zero_division=0,\n",
        "    )\n",
        "\n",
        "    return score"
      ]
    },
    {
      "cell_type": "markdown",
      "metadata": {
        "id": "AnKqM46B0I9Q"
      },
      "source": [
        "# [Task 5 - 1.0 points] Training and Evaluation\n",
        "\n",
        "You are now tasked to train and evaluate the Baseline, Model 1, and Model 2."
      ]
    },
    {
      "cell_type": "markdown",
      "metadata": {
        "id": "fPx2pXEb0I9Q"
      },
      "source": [
        "### Instructions\n",
        "\n",
        "* Train **all** models on the train set.\n",
        "* Evaluate **all** models on the validation set.\n",
        "* Compute metrics on the validation set.\n",
        "* Pick **at least** three seeds for robust estimation.\n",
        "* Pick the **best** performing model according to the observed validation set performance."
      ]
    },
    {
      "cell_type": "code",
      "execution_count": 86,
      "metadata": {
        "id": "Fvbi3kvP0I9Q"
      },
      "outputs": [],
      "source": [
        "def experiment(seed, model1=False, model2=False):\n",
        "    set_reproducibility(seed)\n",
        "\n",
        "    model = get_model(add_lstm=model1, add_dense=model2)\n",
        "\n",
        "    ### train model on the train set\n",
        "    history = model.fit(\n",
        "        text_train,\n",
        "        tag_categorical_train,\n",
        "        batch_size=128,\n",
        "        epochs=50,\n",
        "        validation_data=(text_val, tag_categorical_val),\n",
        "        callbacks=[early_stopping, reduce_lr],\n",
        "    )\n",
        "\n",
        "    ### compute metrics\n",
        "    score = metric(model)\n",
        "\n",
        "    return score, history"
      ]
    },
    {
      "cell_type": "code",
      "execution_count": 126,
      "metadata": {
        "id": "p94lgBYl0I9R"
      },
      "outputs": [],
      "source": [
        "seeds = [333, 666, 999]\n",
        "seeds= [333]"
      ]
    },
    {
      "cell_type": "code",
      "execution_count": 127,
      "metadata": {
        "id": "HfqpnOhn0I9R",
        "outputId": "21173502-8b59-4864-f2f8-32e69304897e",
        "colab": {
          "base_uri": "https://localhost:8080/"
        }
      },
      "outputs": [
        {
          "output_type": "stream",
          "name": "stdout",
          "text": [
            "Model: \"model_53\"\n",
            "_________________________________________________________________\n",
            " Layer (type)                Output Shape              Param #   \n",
            "=================================================================\n",
            " input_54 (InputLayer)       [(None, 249)]             0         \n",
            "                                                                 \n",
            " embedding_53 (Embedding)    (None, 249, 100)          740600    \n",
            "                                                                 \n",
            " bidirectional_59 (Bidirect  (None, 249, 128)          84480     \n",
            " ional)                                                          \n",
            "                                                                 \n",
            " time_distributed_59 (TimeD  (None, 249, 46)           5934      \n",
            " istributed)                                                     \n",
            "                                                                 \n",
            "=================================================================\n",
            "Total params: 831014 (3.17 MB)\n",
            "Trainable params: 90414 (353.18 KB)\n",
            "Non-trainable params: 740600 (2.83 MB)\n",
            "_________________________________________________________________\n",
            "Epoch 1/50\n",
            "31/31 [==============================] - 5s 75ms/step - loss: 0.7752 - accuracy: 0.9197 - val_loss: 0.2109 - val_accuracy: 0.9484 - lr: 0.0050\n",
            "Epoch 2/50\n",
            "31/31 [==============================] - 1s 38ms/step - loss: 0.1576 - accuracy: 0.9601 - val_loss: 0.1302 - val_accuracy: 0.9656 - lr: 0.0050\n",
            "Epoch 3/50\n",
            "31/31 [==============================] - 1s 44ms/step - loss: 0.0968 - accuracy: 0.9762 - val_loss: 0.0943 - val_accuracy: 0.9754 - lr: 0.0050\n",
            "Epoch 4/50\n",
            "31/31 [==============================] - 2s 60ms/step - loss: 0.0696 - accuracy: 0.9830 - val_loss: 0.0770 - val_accuracy: 0.9790 - lr: 0.0050\n",
            "Epoch 5/50\n",
            "31/31 [==============================] - 2s 58ms/step - loss: 0.0557 - accuracy: 0.9859 - val_loss: 0.0681 - val_accuracy: 0.9811 - lr: 0.0050\n",
            "Epoch 6/50\n",
            "31/31 [==============================] - 2s 52ms/step - loss: 0.0472 - accuracy: 0.9878 - val_loss: 0.0611 - val_accuracy: 0.9827 - lr: 0.0050\n",
            "Epoch 7/50\n",
            "31/31 [==============================] - 2s 59ms/step - loss: 0.0413 - accuracy: 0.9890 - val_loss: 0.0569 - val_accuracy: 0.9841 - lr: 0.0050\n",
            "Epoch 8/50\n",
            "31/31 [==============================] - 2s 51ms/step - loss: 0.0368 - accuracy: 0.9902 - val_loss: 0.0534 - val_accuracy: 0.9850 - lr: 0.0050\n",
            "Epoch 9/50\n",
            "31/31 [==============================] - 2s 49ms/step - loss: 0.0333 - accuracy: 0.9911 - val_loss: 0.0506 - val_accuracy: 0.9859 - lr: 0.0050\n",
            "Epoch 10/50\n",
            "31/31 [==============================] - 2s 58ms/step - loss: 0.0302 - accuracy: 0.9920 - val_loss: 0.0487 - val_accuracy: 0.9863 - lr: 0.0050\n",
            "Epoch 11/50\n",
            "31/31 [==============================] - 2s 61ms/step - loss: 0.0279 - accuracy: 0.9926 - val_loss: 0.0476 - val_accuracy: 0.9865 - lr: 0.0050\n",
            "Epoch 12/50\n",
            "31/31 [==============================] - 2s 54ms/step - loss: 0.0257 - accuracy: 0.9933 - val_loss: 0.0468 - val_accuracy: 0.9868 - lr: 0.0050\n",
            "Epoch 13/50\n",
            "31/31 [==============================] - 2s 61ms/step - loss: 0.0238 - accuracy: 0.9936 - val_loss: 0.0450 - val_accuracy: 0.9873 - lr: 0.0050\n",
            "Epoch 14/50\n",
            "31/31 [==============================] - 2s 51ms/step - loss: 0.0221 - accuracy: 0.9942 - val_loss: 0.0450 - val_accuracy: 0.9873 - lr: 0.0050\n",
            "Epoch 15/50\n",
            "31/31 [==============================] - 1s 39ms/step - loss: 0.0207 - accuracy: 0.9945 - val_loss: 0.0443 - val_accuracy: 0.9876 - lr: 0.0050\n",
            "Epoch 16/50\n",
            "31/31 [==============================] - 1s 39ms/step - loss: 0.0193 - accuracy: 0.9949 - val_loss: 0.0433 - val_accuracy: 0.9879 - lr: 0.0050\n",
            "Epoch 17/50\n",
            "31/31 [==============================] - 1s 30ms/step - loss: 0.0181 - accuracy: 0.9953 - val_loss: 0.0441 - val_accuracy: 0.9878 - lr: 0.0050\n",
            "Epoch 18/50\n",
            "31/31 [==============================] - 1s 26ms/step - loss: 0.0169 - accuracy: 0.9957 - val_loss: 0.0435 - val_accuracy: 0.9879 - lr: 0.0050\n",
            "Epoch 19/50\n",
            "31/31 [==============================] - 1s 31ms/step - loss: 0.0158 - accuracy: 0.9959 - val_loss: 0.0420 - val_accuracy: 0.9883 - lr: 0.0050\n",
            "Epoch 20/50\n",
            "31/31 [==============================] - 1s 27ms/step - loss: 0.0148 - accuracy: 0.9963 - val_loss: 0.0435 - val_accuracy: 0.9880 - lr: 0.0050\n",
            "Epoch 21/50\n",
            "31/31 [==============================] - 1s 33ms/step - loss: 0.0137 - accuracy: 0.9967 - val_loss: 0.0424 - val_accuracy: 0.9883 - lr: 5.0000e-04\n",
            "Epoch 22/50\n",
            "31/31 [==============================] - 1s 38ms/step - loss: 0.0135 - accuracy: 0.9968 - val_loss: 0.0421 - val_accuracy: 0.9883 - lr: 5.0000e-04\n",
            "Epoch 23/50\n",
            "31/31 [==============================] - 1s 39ms/step - loss: 0.0134 - accuracy: 0.9967 - val_loss: 0.0421 - val_accuracy: 0.9883 - lr: 5.0000e-04\n",
            "Epoch 24/50\n",
            "31/31 [==============================] - 2s 53ms/step - loss: 0.0133 - accuracy: 0.9968 - val_loss: 0.0422 - val_accuracy: 0.9883 - lr: 5.0000e-04\n",
            "Epoch 25/50\n",
            "31/31 [==============================] - 2s 54ms/step - loss: 0.0132 - accuracy: 0.9968 - val_loss: 0.0421 - val_accuracy: 0.9883 - lr: 5.0000e-04\n",
            "Epoch 26/50\n",
            "31/31 [==============================] - 1s 46ms/step - loss: 0.0131 - accuracy: 0.9968 - val_loss: 0.0423 - val_accuracy: 0.9883 - lr: 5.0000e-04\n",
            "Epoch 27/50\n",
            "31/31 [==============================] - 1s 48ms/step - loss: 0.0130 - accuracy: 0.9968 - val_loss: 0.0421 - val_accuracy: 0.9883 - lr: 5.0000e-04\n",
            "Epoch 28/50\n",
            "31/31 [==============================] - 2s 52ms/step - loss: 0.0129 - accuracy: 0.9969 - val_loss: 0.0421 - val_accuracy: 0.9883 - lr: 5.0000e-05\n",
            "Epoch 29/50\n",
            "31/31 [==============================] - 2s 52ms/step - loss: 0.0129 - accuracy: 0.9969 - val_loss: 0.0421 - val_accuracy: 0.9883 - lr: 5.0000e-05\n",
            "Epoch 30/50\n",
            "31/31 [==============================] - 2s 51ms/step - loss: 0.0129 - accuracy: 0.9969 - val_loss: 0.0421 - val_accuracy: 0.9883 - lr: 5.0000e-05\n",
            "Epoch 31/50\n",
            "31/31 [==============================] - 2s 61ms/step - loss: 0.0129 - accuracy: 0.9969 - val_loss: 0.0421 - val_accuracy: 0.9883 - lr: 5.0000e-05\n",
            "Epoch 32/50\n",
            "31/31 [==============================] - 2s 60ms/step - loss: 0.0129 - accuracy: 0.9969 - val_loss: 0.0421 - val_accuracy: 0.9883 - lr: 5.0000e-05\n",
            "Epoch 33/50\n",
            "31/31 [==============================] - 2s 61ms/step - loss: 0.0129 - accuracy: 0.9969 - val_loss: 0.0421 - val_accuracy: 0.9883 - lr: 5.0000e-05\n",
            "41/41 [==============================] - 2s 12ms/step\n"
          ]
        }
      ],
      "source": [
        "### baseline\n",
        "baseline_results = [experiment(s) for s in seeds]\n",
        "baseline_scores = [r[0] for r in baseline_results]\n",
        "baseline_histories = [r[1] for r in baseline_results]"
      ]
    },
    {
      "cell_type": "code",
      "execution_count": 128,
      "metadata": {
        "id": "LZXj5av10I9R",
        "outputId": "b913cb5f-5a67-468f-9e74-ad1b0d919370",
        "colab": {
          "base_uri": "https://localhost:8080/",
          "height": 447
        }
      },
      "outputs": [
        {
          "output_type": "stream",
          "name": "stdout",
          "text": [
            "0.6639369346367506\n"
          ]
        },
        {
          "output_type": "display_data",
          "data": {
            "text/plain": [
              "<Figure size 640x480 with 1 Axes>"
            ],
            "image/png": "[encoded data removed]"
          },
          "metadata": {}
        }
      ],
      "source": [
        "[print(h) for h in baseline_scores]\n",
        "[plt.plot(h.history['loss']) for h in baseline_histories]\n",
        "\n",
        "plt.show()"
      ]
    },
    {
      "cell_type": "code",
      "execution_count": 129,
      "metadata": {
        "id": "46QYti0H0I9R",
        "outputId": "fbb99bf3-5f94-4b66-ad1f-3ce3cf199193",
        "colab": {
          "base_uri": "https://localhost:8080/"
        }
      },
      "outputs": [
        {
          "output_type": "stream",
          "name": "stdout",
          "text": [
            "Model: \"model_54\"\n",
            "_________________________________________________________________\n",
            " Layer (type)                Output Shape              Param #   \n",
            "=================================================================\n",
            " input_55 (InputLayer)       [(None, 249)]             0         \n",
            "                                                                 \n",
            " embedding_54 (Embedding)    (None, 249, 100)          740600    \n",
            "                                                                 \n",
            " bidirectional_60 (Bidirect  (None, 249, 128)          84480     \n",
            " ional)                                                          \n",
            "                                                                 \n",
            " time_distributed_60 (TimeD  (None, 249, 46)           5934      \n",
            " istributed)                                                     \n",
            "                                                                 \n",
            "=================================================================\n",
            "Total params: 831014 (3.17 MB)\n",
            "Trainable params: 90414 (353.18 KB)\n",
            "Non-trainable params: 740600 (2.83 MB)\n",
            "_________________________________________________________________\n",
            "Epoch 1/50\n",
            "31/31 [==============================] - 9s 107ms/step - loss: 0.7782 - accuracy: 0.9209 - val_loss: 0.2100 - val_accuracy: 0.9491 - lr: 0.0050\n",
            "Epoch 2/50\n",
            "31/31 [==============================] - 2s 49ms/step - loss: 0.1602 - accuracy: 0.9595 - val_loss: 0.1345 - val_accuracy: 0.9651 - lr: 0.0050\n",
            "Epoch 3/50\n",
            "31/31 [==============================] - 2s 50ms/step - loss: 0.1006 - accuracy: 0.9752 - val_loss: 0.0971 - val_accuracy: 0.9744 - lr: 0.0050\n",
            "Epoch 4/50\n",
            "31/31 [==============================] - 2s 49ms/step - loss: 0.0716 - accuracy: 0.9824 - val_loss: 0.0784 - val_accuracy: 0.9794 - lr: 0.0050\n",
            "Epoch 5/50\n",
            "31/31 [==============================] - 1s 41ms/step - loss: 0.0567 - accuracy: 0.9857 - val_loss: 0.0685 - val_accuracy: 0.9815 - lr: 0.0050\n",
            "Epoch 6/50\n",
            "31/31 [==============================] - 1s 38ms/step - loss: 0.0478 - accuracy: 0.9874 - val_loss: 0.0620 - val_accuracy: 0.9828 - lr: 0.0050\n",
            "Epoch 7/50\n",
            "31/31 [==============================] - 1s 40ms/step - loss: 0.0419 - accuracy: 0.9888 - val_loss: 0.0573 - val_accuracy: 0.9842 - lr: 0.0050\n",
            "Epoch 8/50\n",
            "31/31 [==============================] - 1s 37ms/step - loss: 0.0374 - accuracy: 0.9900 - val_loss: 0.0535 - val_accuracy: 0.9850 - lr: 0.0050\n",
            "Epoch 9/50\n",
            "31/31 [==============================] - 1s 37ms/step - loss: 0.0339 - accuracy: 0.9910 - val_loss: 0.0511 - val_accuracy: 0.9857 - lr: 0.0050\n",
            "Epoch 10/50\n",
            "31/31 [==============================] - 1s 45ms/step - loss: 0.0309 - accuracy: 0.9918 - val_loss: 0.0490 - val_accuracy: 0.9862 - lr: 0.0050\n",
            "Epoch 11/50\n",
            "31/31 [==============================] - 1s 43ms/step - loss: 0.0284 - accuracy: 0.9925 - val_loss: 0.0477 - val_accuracy: 0.9864 - lr: 0.0050\n",
            "Epoch 12/50\n",
            "31/31 [==============================] - 1s 41ms/step - loss: 0.0263 - accuracy: 0.9931 - val_loss: 0.0469 - val_accuracy: 0.9867 - lr: 0.0050\n",
            "Epoch 13/50\n",
            "31/31 [==============================] - 1s 37ms/step - loss: 0.0244 - accuracy: 0.9936 - val_loss: 0.0451 - val_accuracy: 0.9872 - lr: 0.0050\n",
            "Epoch 14/50\n",
            "31/31 [==============================] - 1s 37ms/step - loss: 0.0227 - accuracy: 0.9941 - val_loss: 0.0444 - val_accuracy: 0.9874 - lr: 0.0050\n",
            "Epoch 15/50\n",
            "31/31 [==============================] - 1s 38ms/step - loss: 0.0213 - accuracy: 0.9944 - val_loss: 0.0439 - val_accuracy: 0.9875 - lr: 0.0050\n",
            "Epoch 16/50\n",
            "31/31 [==============================] - 1s 38ms/step - loss: 0.0199 - accuracy: 0.9947 - val_loss: 0.0434 - val_accuracy: 0.9876 - lr: 0.0050\n",
            "Epoch 17/50\n",
            "31/31 [==============================] - 1s 37ms/step - loss: 0.0188 - accuracy: 0.9950 - val_loss: 0.0436 - val_accuracy: 0.9876 - lr: 0.0050\n",
            "Epoch 18/50\n",
            "31/31 [==============================] - 1s 36ms/step - loss: 0.0176 - accuracy: 0.9955 - val_loss: 0.0424 - val_accuracy: 0.9879 - lr: 0.0050\n",
            "Epoch 19/50\n",
            "31/31 [==============================] - 1s 39ms/step - loss: 0.0165 - accuracy: 0.9957 - val_loss: 0.0414 - val_accuracy: 0.9881 - lr: 0.0050\n",
            "Epoch 20/50\n",
            "31/31 [==============================] - 1s 37ms/step - loss: 0.0155 - accuracy: 0.9960 - val_loss: 0.0427 - val_accuracy: 0.9879 - lr: 0.0050\n",
            "Epoch 21/50\n",
            "31/31 [==============================] - 2s 54ms/step - loss: 0.0146 - accuracy: 0.9962 - val_loss: 0.0417 - val_accuracy: 0.9881 - lr: 0.0050\n",
            "Epoch 22/50\n",
            "31/31 [==============================] - 1s 45ms/step - loss: 0.0137 - accuracy: 0.9965 - val_loss: 0.0414 - val_accuracy: 0.9882 - lr: 0.0050\n",
            "Epoch 23/50\n",
            "31/31 [==============================] - 2s 52ms/step - loss: 0.0129 - accuracy: 0.9967 - val_loss: 0.0415 - val_accuracy: 0.9882 - lr: 0.0050\n",
            "Epoch 24/50\n",
            "31/31 [==============================] - 1s 38ms/step - loss: 0.0122 - accuracy: 0.9970 - val_loss: 0.0418 - val_accuracy: 0.9881 - lr: 0.0050\n",
            "Epoch 25/50\n",
            "31/31 [==============================] - 1s 37ms/step - loss: 0.0116 - accuracy: 0.9972 - val_loss: 0.0415 - val_accuracy: 0.9883 - lr: 0.0050\n",
            "Epoch 26/50\n",
            "31/31 [==============================] - 1s 36ms/step - loss: 0.0106 - accuracy: 0.9976 - val_loss: 0.0414 - val_accuracy: 0.9883 - lr: 5.0000e-04\n",
            "Epoch 27/50\n",
            "31/31 [==============================] - 1s 37ms/step - loss: 0.0104 - accuracy: 0.9976 - val_loss: 0.0414 - val_accuracy: 0.9883 - lr: 5.0000e-04\n",
            "Epoch 28/50\n",
            "31/31 [==============================] - 1s 37ms/step - loss: 0.0104 - accuracy: 0.9977 - val_loss: 0.0414 - val_accuracy: 0.9883 - lr: 5.0000e-04\n",
            "Epoch 29/50\n",
            "31/31 [==============================] - 1s 36ms/step - loss: 0.0103 - accuracy: 0.9977 - val_loss: 0.0412 - val_accuracy: 0.9884 - lr: 5.0000e-04\n",
            "Epoch 30/50\n",
            "31/31 [==============================] - 1s 42ms/step - loss: 0.0102 - accuracy: 0.9977 - val_loss: 0.0413 - val_accuracy: 0.9883 - lr: 5.0000e-04\n",
            "Epoch 31/50\n",
            "31/31 [==============================] - 1s 47ms/step - loss: 0.0102 - accuracy: 0.9977 - val_loss: 0.0414 - val_accuracy: 0.9884 - lr: 5.0000e-04\n",
            "Epoch 32/50\n",
            "31/31 [==============================] - 2s 56ms/step - loss: 0.0101 - accuracy: 0.9977 - val_loss: 0.0414 - val_accuracy: 0.9884 - lr: 5.0000e-04\n",
            "Epoch 33/50\n",
            "31/31 [==============================] - 2s 60ms/step - loss: 0.0100 - accuracy: 0.9978 - val_loss: 0.0414 - val_accuracy: 0.9884 - lr: 5.0000e-05\n",
            "Epoch 34/50\n",
            "31/31 [==============================] - 2s 49ms/step - loss: 0.0100 - accuracy: 0.9978 - val_loss: 0.0414 - val_accuracy: 0.9884 - lr: 5.0000e-05\n",
            "Epoch 35/50\n",
            "31/31 [==============================] - 2s 49ms/step - loss: 0.0100 - accuracy: 0.9978 - val_loss: 0.0414 - val_accuracy: 0.9884 - lr: 5.0000e-05\n",
            "Epoch 36/50\n",
            "31/31 [==============================] - 1s 37ms/step - loss: 0.0100 - accuracy: 0.9978 - val_loss: 0.0414 - val_accuracy: 0.9884 - lr: 5.0000e-05\n",
            "Epoch 37/50\n",
            "31/31 [==============================] - 1s 38ms/step - loss: 0.0100 - accuracy: 0.9978 - val_loss: 0.0414 - val_accuracy: 0.9884 - lr: 5.0000e-05\n",
            "Epoch 38/50\n",
            "31/31 [==============================] - 1s 37ms/step - loss: 0.0099 - accuracy: 0.9978 - val_loss: 0.0414 - val_accuracy: 0.9884 - lr: 5.0000e-05\n",
            "41/41 [==============================] - 1s 14ms/step\n"
          ]
        }
      ],
      "source": [
        "### model1\n",
        "model1_results = [experiment(s, model1=True) for s in seeds]\n",
        "model1_scores = [r[0] for r in model1_results]\n",
        "model1_histories = [r[1] for r in model1_results]"
      ]
    },
    {
      "cell_type": "code",
      "execution_count": 130,
      "metadata": {
        "id": "xbWGnixU0I9R",
        "outputId": "388e4930-c49f-4ca3-c829-7763ebf736cc",
        "colab": {
          "base_uri": "https://localhost:8080/",
          "height": 447
        }
      },
      "outputs": [
        {
          "output_type": "stream",
          "name": "stdout",
          "text": [
            "0.6798859874390651\n"
          ]
        },
        {
          "output_type": "display_data",
          "data": {
            "text/plain": [
              "<Figure size 640x480 with 1 Axes>"
            ],
            "image/png": "[encoded data removed]"
          },
          "metadata": {}
        }
      ],
      "source": [
        "[print(h) for h in model1_scores]\n",
        "[plt.plot(h.history['loss']) for h in model1_histories]\n",
        "plt.show()"
      ]
    },
    {
      "cell_type": "code",
      "execution_count": 131,
      "metadata": {
        "id": "Snfr3NNo0I9S",
        "outputId": "0b4f4a7a-4577-4380-f127-0ba3ebdd8ed0",
        "colab": {
          "base_uri": "https://localhost:8080/"
        }
      },
      "outputs": [
        {
          "output_type": "stream",
          "name": "stdout",
          "text": [
            "Model: \"model_55\"\n",
            "_________________________________________________________________\n",
            " Layer (type)                Output Shape              Param #   \n",
            "=================================================================\n",
            " input_56 (InputLayer)       [(None, 249)]             0         \n",
            "                                                                 \n",
            " embedding_55 (Embedding)    (None, 249, 100)          740600    \n",
            "                                                                 \n",
            " bidirectional_62 (Bidirect  (None, 249, 128)          84480     \n",
            " ional)                                                          \n",
            "                                                                 \n",
            " time_distributed_61 (TimeD  (None, 249, 46)           5934      \n",
            " istributed)                                                     \n",
            "                                                                 \n",
            " time_distributed_62 (TimeD  (None, 249, 46)           2162      \n",
            " istributed)                                                     \n",
            "                                                                 \n",
            "=================================================================\n",
            "Total params: 833176 (3.18 MB)\n",
            "Trainable params: 92576 (361.62 KB)\n",
            "Non-trainable params: 740600 (2.83 MB)\n",
            "_________________________________________________________________\n",
            "Epoch 1/50\n",
            "31/31 [==============================] - 9s 108ms/step - loss: 0.8268 - accuracy: 0.9114 - val_loss: 0.2304 - val_accuracy: 0.9392 - lr: 0.0050\n",
            "Epoch 2/50\n",
            "31/31 [==============================] - 2s 60ms/step - loss: 0.1719 - accuracy: 0.9540 - val_loss: 0.1366 - val_accuracy: 0.9622 - lr: 0.0050\n",
            "Epoch 3/50\n",
            "31/31 [==============================] - 2s 50ms/step - loss: 0.0998 - accuracy: 0.9735 - val_loss: 0.0944 - val_accuracy: 0.9736 - lr: 0.0050\n",
            "Epoch 4/50\n",
            "31/31 [==============================] - 1s 36ms/step - loss: 0.0677 - accuracy: 0.9821 - val_loss: 0.0752 - val_accuracy: 0.9791 - lr: 0.0050\n",
            "Epoch 5/50\n",
            "31/31 [==============================] - 1s 38ms/step - loss: 0.0530 - accuracy: 0.9859 - val_loss: 0.0679 - val_accuracy: 0.9814 - lr: 0.0050\n",
            "Epoch 6/50\n",
            "31/31 [==============================] - 1s 37ms/step - loss: 0.0447 - accuracy: 0.9880 - val_loss: 0.0600 - val_accuracy: 0.9835 - lr: 0.0050\n",
            "Epoch 7/50\n",
            "31/31 [==============================] - 1s 39ms/step - loss: 0.0385 - accuracy: 0.9895 - val_loss: 0.0561 - val_accuracy: 0.9844 - lr: 0.0050\n",
            "Epoch 8/50\n",
            "31/31 [==============================] - 1s 40ms/step - loss: 0.0337 - accuracy: 0.9907 - val_loss: 0.0522 - val_accuracy: 0.9855 - lr: 0.0050\n",
            "Epoch 9/50\n",
            "31/31 [==============================] - 1s 39ms/step - loss: 0.0298 - accuracy: 0.9917 - val_loss: 0.0509 - val_accuracy: 0.9861 - lr: 0.0050\n",
            "Epoch 10/50\n",
            "31/31 [==============================] - 1s 39ms/step - loss: 0.0266 - accuracy: 0.9927 - val_loss: 0.0498 - val_accuracy: 0.9864 - lr: 0.0050\n",
            "Epoch 11/50\n",
            "31/31 [==============================] - 1s 39ms/step - loss: 0.0239 - accuracy: 0.9935 - val_loss: 0.0479 - val_accuracy: 0.9869 - lr: 0.0050\n",
            "Epoch 12/50\n",
            "31/31 [==============================] - 1s 43ms/step - loss: 0.0216 - accuracy: 0.9941 - val_loss: 0.0493 - val_accuracy: 0.9867 - lr: 0.0050\n",
            "Epoch 13/50\n",
            "31/31 [==============================] - 1s 43ms/step - loss: 0.0197 - accuracy: 0.9945 - val_loss: 0.0467 - val_accuracy: 0.9875 - lr: 0.0050\n",
            "Epoch 14/50\n",
            "31/31 [==============================] - 1s 39ms/step - loss: 0.0179 - accuracy: 0.9951 - val_loss: 0.0459 - val_accuracy: 0.9877 - lr: 0.0050\n",
            "Epoch 15/50\n",
            "31/31 [==============================] - 1s 38ms/step - loss: 0.0164 - accuracy: 0.9955 - val_loss: 0.0483 - val_accuracy: 0.9874 - lr: 0.0050\n",
            "Epoch 16/50\n",
            "31/31 [==============================] - 1s 40ms/step - loss: 0.0150 - accuracy: 0.9960 - val_loss: 0.0471 - val_accuracy: 0.9877 - lr: 0.0050\n",
            "Epoch 17/50\n",
            "31/31 [==============================] - 1s 38ms/step - loss: 0.0140 - accuracy: 0.9962 - val_loss: 0.0467 - val_accuracy: 0.9879 - lr: 0.0050\n",
            "Epoch 18/50\n",
            "31/31 [==============================] - 1s 40ms/step - loss: 0.0128 - accuracy: 0.9966 - val_loss: 0.0480 - val_accuracy: 0.9878 - lr: 0.0050\n",
            "Epoch 19/50\n",
            "31/31 [==============================] - 1s 46ms/step - loss: 0.0119 - accuracy: 0.9968 - val_loss: 0.0472 - val_accuracy: 0.9879 - lr: 0.0050\n",
            "Epoch 20/50\n",
            "31/31 [==============================] - 2s 55ms/step - loss: 0.0107 - accuracy: 0.9972 - val_loss: 0.0482 - val_accuracy: 0.9879 - lr: 0.0050\n",
            "Epoch 21/50\n",
            "31/31 [==============================] - 2s 60ms/step - loss: 0.0099 - accuracy: 0.9974 - val_loss: 0.0508 - val_accuracy: 0.9879 - lr: 0.0050\n",
            "Epoch 22/50\n",
            "31/31 [==============================] - 2s 58ms/step - loss: 0.0091 - accuracy: 0.9976 - val_loss: 0.0484 - val_accuracy: 0.9881 - lr: 0.0050\n",
            "Epoch 23/50\n",
            "31/31 [==============================] - 2s 51ms/step - loss: 0.0083 - accuracy: 0.9979 - val_loss: 0.0491 - val_accuracy: 0.9882 - lr: 0.0050\n",
            "Epoch 24/50\n",
            "31/31 [==============================] - 1s 44ms/step - loss: 0.0077 - accuracy: 0.9981 - val_loss: 0.0491 - val_accuracy: 0.9884 - lr: 0.0050\n",
            "Epoch 25/50\n",
            "31/31 [==============================] - 2s 51ms/step - loss: 0.0063 - accuracy: 0.9986 - val_loss: 0.0500 - val_accuracy: 0.9883 - lr: 5.0000e-04\n",
            "Epoch 26/50\n",
            "31/31 [==============================] - 1s 48ms/step - loss: 0.0061 - accuracy: 0.9986 - val_loss: 0.0503 - val_accuracy: 0.9883 - lr: 5.0000e-04\n",
            "Epoch 27/50\n",
            "31/31 [==============================] - 1s 37ms/step - loss: 0.0059 - accuracy: 0.9987 - val_loss: 0.0503 - val_accuracy: 0.9884 - lr: 5.0000e-04\n",
            "Epoch 28/50\n",
            "31/31 [==============================] - 1s 39ms/step - loss: 0.0059 - accuracy: 0.9987 - val_loss: 0.0507 - val_accuracy: 0.9883 - lr: 5.0000e-04\n",
            "Epoch 29/50\n",
            "31/31 [==============================] - 1s 39ms/step - loss: 0.0058 - accuracy: 0.9987 - val_loss: 0.0507 - val_accuracy: 0.9883 - lr: 5.0000e-04\n",
            "Epoch 30/50\n",
            "31/31 [==============================] - 1s 38ms/step - loss: 0.0057 - accuracy: 0.9988 - val_loss: 0.0509 - val_accuracy: 0.9883 - lr: 5.0000e-04\n",
            "Epoch 31/50\n",
            "31/31 [==============================] - 1s 40ms/step - loss: 0.0056 - accuracy: 0.9988 - val_loss: 0.0512 - val_accuracy: 0.9883 - lr: 5.0000e-04\n",
            "Epoch 32/50\n",
            "31/31 [==============================] - 1s 37ms/step - loss: 0.0055 - accuracy: 0.9988 - val_loss: 0.0511 - val_accuracy: 0.9883 - lr: 5.0000e-05\n",
            "Epoch 33/50\n",
            "31/31 [==============================] - 1s 29ms/step - loss: 0.0055 - accuracy: 0.9989 - val_loss: 0.0510 - val_accuracy: 0.9882 - lr: 5.0000e-05\n",
            "Epoch 34/50\n",
            "31/31 [==============================] - 1s 30ms/step - loss: 0.0055 - accuracy: 0.9989 - val_loss: 0.0511 - val_accuracy: 0.9882 - lr: 5.0000e-05\n",
            "Epoch 35/50\n",
            "31/31 [==============================] - 1s 30ms/step - loss: 0.0055 - accuracy: 0.9989 - val_loss: 0.0511 - val_accuracy: 0.9882 - lr: 5.0000e-05\n",
            "Epoch 36/50\n",
            "31/31 [==============================] - 1s 36ms/step - loss: 0.0055 - accuracy: 0.9989 - val_loss: 0.0511 - val_accuracy: 0.9882 - lr: 5.0000e-05\n",
            "Epoch 37/50\n",
            "31/31 [==============================] - 1s 37ms/step - loss: 0.0055 - accuracy: 0.9989 - val_loss: 0.0511 - val_accuracy: 0.9882 - lr: 5.0000e-05\n",
            "41/41 [==============================] - 2s 16ms/step\n"
          ]
        }
      ],
      "source": [
        "### model2\n",
        "model2_results = [experiment(s, model2=True) for s in seeds]\n",
        "model2_scores = [r[0] for r in model2_results]\n",
        "model2_histories = [r[1] for r in model2_results]"
      ]
    },
    {
      "cell_type": "code",
      "execution_count": 132,
      "metadata": {
        "id": "fn6Mx_Xt0I9S",
        "outputId": "62bda1ac-9920-4a24-969b-06f295a91c60",
        "colab": {
          "base_uri": "https://localhost:8080/",
          "height": 447
        }
      },
      "outputs": [
        {
          "output_type": "stream",
          "name": "stdout",
          "text": [
            "0.7038820622239526\n"
          ]
        },
        {
          "output_type": "display_data",
          "data": {
            "text/plain": [
              "<Figure size 640x480 with 1 Axes>"
            ],
            "image/png": "[encoded data removed]"
          },
          "metadata": {}
        }
      ],
      "source": [
        "[print(h) for h in model2_scores]\n",
        "[plt.plot(h.history['loss']) for h in model2_histories]\n",
        "plt.show()"
      ]
    },
    {
      "cell_type": "markdown",
      "metadata": {
        "id": "b5WfKXd90I9S"
      },
      "source": [
        "# [Task 6 - 1.0 points] Error Analysis\n",
        "\n",
        "You are tasked to evaluate your best performing model."
      ]
    },
    {
      "cell_type": "markdown",
      "metadata": {
        "id": "He8u4f_-0I9S"
      },
      "source": [
        "### Instructions\n",
        "\n",
        "* Compare the errors made on the validation and test sets.\n",
        "* Aggregate model errors into categories (if possible)\n",
        "* Comment the about errors and propose possible solutions on how to address them."
      ]
    },
    {
      "cell_type": "code",
      "execution_count": 132,
      "metadata": {
        "id": "UvYNzPw40I9S"
      },
      "outputs": [],
      "source": []
    },
    {
      "cell_type": "markdown",
      "metadata": {
        "id": "Rc02ygSz0I9T"
      },
      "source": [
        "# [Task 7 - 1.0 points] Report\n",
        "\n",
        "Wrap up your experiment in a short report (up to 2 pages)."
      ]
    },
    {
      "cell_type": "markdown",
      "metadata": {
        "id": "yDVRC6he0I9T"
      },
      "source": [
        "### Instructions\n",
        "\n",
        "* Use the NLP course report template.\n",
        "* Summarize each task in the report following the provided template."
      ]
    },
    {
      "cell_type": "markdown",
      "metadata": {
        "id": "V2ZISkw50I9T"
      },
      "source": [
        "### Recommendations\n",
        "\n",
        "The report is not a copy-paste of graphs, tables, and command outputs.\n",
        "\n",
        "* Summarize classification performance in Table format.\n",
        "* **Do not** report command outputs or screenshots.\n",
        "* Report learning curves in Figure format.\n",
        "* The error analysis section should summarize your findings."
      ]
    },
    {
      "cell_type": "markdown",
      "metadata": {
        "id": "aIo631ni0I9T"
      },
      "source": [
        "# Submission\n",
        "\n",
        "* **Submit** your report in PDF format.\n",
        "* **Submit** your python notebook.\n",
        "* Make sure your notebook is **well organized**, with no temporary code, commented sections, tests, etc...\n",
        "* You can upload **model weights** in a cloud repository and report the link in the report."
      ]
    },
    {
      "cell_type": "markdown",
      "metadata": {
        "id": "ltyeaCUr0I9T"
      },
      "source": [
        "# FAQ\n",
        "\n",
        "Please check this frequently asked questions before contacting us"
      ]
    },
    {
      "cell_type": "markdown",
      "metadata": {
        "id": "3UQ-EFWq0I9T"
      },
      "source": [
        "### Trainable Embeddings\n",
        "\n",
        "You are **free** to define a trainable or non-trainable Embedding layer to load the GloVe embeddings."
      ]
    },
    {
      "cell_type": "markdown",
      "metadata": {
        "id": "ruAgGPb_0I9U"
      },
      "source": [
        "### Model architecture\n",
        "\n",
        "You **should not** change the architecture of a model (i.e., its layers).\n",
        "\n",
        "However, you are **free** to play with their hyper-parameters."
      ]
    },
    {
      "cell_type": "markdown",
      "metadata": {
        "id": "9YqTa-dG0I9U"
      },
      "source": [
        "### Neural Libraries\n",
        "\n",
        "You are **free** to use any library of your choice to implement the networks (e.g., Keras, Tensorflow, PyTorch, JAX, etc...)"
      ]
    },
    {
      "cell_type": "markdown",
      "metadata": {
        "id": "MPwxnrta0I9U"
      },
      "source": [
        "### Keras TimeDistributed Dense layer\n",
        "\n",
        "If you are using Keras, we recommend wrapping the final Dense layer with `TimeDistributed`."
      ]
    },
    {
      "cell_type": "markdown",
      "metadata": {
        "id": "r68nIGLH0I9U"
      },
      "source": [
        "### Error Analysis\n",
        "\n",
        "Some topics for discussion include:\n",
        "   * Model performance on most/less frequent classes.\n",
        "   * Precision/Recall curves.\n",
        "   * Confusion matrices.\n",
        "   * Specific misclassified samples."
      ]
    },
    {
      "cell_type": "markdown",
      "metadata": {
        "id": "rVmpO6gX0I9V"
      },
      "source": [
        "### Punctuation\n",
        "\n",
        "**Do not** remove punctuation from documents since it may be helpful to the model.\n",
        "\n",
        "You should **ignore** it during metrics computation.\n",
        "\n",
        "If you are curious, you can run additional experiments to verify the impact of removing punctuation."
      ]
    },
    {
      "cell_type": "markdown",
      "metadata": {
        "id": "It3HUc060I9V"
      },
      "source": [
        "# The End"
      ]
    }
  ],
  "metadata": {
    "celltoolbar": "Slideshow",
    "colab": {
      "provenance": [],
      "gpuType": "T4"
    },
    "kernelspec": {
      "display_name": "Python 3",
      "name": "python3"
    },
    "language_info": {
      "codemirror_mode": {
        "name": "ipython",
        "version": 3
      },
      "file_extension": ".py",
      "mimetype": "text/x-python",
      "name": "python",
      "nbconvert_exporter": "python",
      "pygments_lexer": "ipython3",
      "version": "3.8.10"
    },
    "accelerator": "GPU"
  },
  "nbformat": 4,
  "nbformat_minor": 0
}